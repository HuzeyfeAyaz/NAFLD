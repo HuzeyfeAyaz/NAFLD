{
 "cells": [
  {
   "cell_type": "markdown",
   "metadata": {},
   "source": [
    "# Comparison Tables By Metrice Scores"
   ]
  },
  {
   "cell_type": "code",
   "execution_count": 1,
   "metadata": {},
   "outputs": [],
   "source": [
    "import numpy as np\n",
    "import pandas as pd\n",
    "import matplotlib.pyplot as plt\n",
    "from sklearn.model_selection import train_test_split\n",
    "from sklearn.preprocessing import StandardScaler\n",
    "from sklearn.model_selection import GridSearchCV\n",
    "from sklearn.pipeline import Pipeline\n",
    "from impyute.imputation.cs import fast_knn\n",
    "import pickle\n",
    "\n",
    "# Scores\n",
    "from sklearn.metrics import confusion_matrix\n",
    "from sklearn.metrics import roc_auc_score\n",
    "from sklearn.model_selection import StratifiedKFold\n",
    "from sklearn.metrics import make_scorer\n",
    "\n",
    "# Classifiers\n",
    "from sklearn.linear_model import LogisticRegression\n",
    "from sklearn.svm import SVC\n",
    "from sklearn.tree import DecisionTreeClassifier\n",
    "\n",
    "# Ensemble models\n",
    "from sklearn.ensemble import RandomForestClassifier\n",
    "from sklearn.ensemble import BaggingClassifier\n",
    "\n",
    "# Ignoring Errors\n",
    "import warnings\n",
    "warnings.simplefilter('ignore')"
   ]
  },
  {
   "cell_type": "code",
   "execution_count": 2,
   "metadata": {},
   "outputs": [],
   "source": [
    "param_range = [0.001, 0.01, 0.1, 1.0, 10.0, 100.0]\n",
    "scoring = make_scorer(roc_auc_score)\n",
    "def gsearch(classifier, X_train, y_train, param_grid, scoring=scoring):\n",
    "    gs = GridSearchCV(estimator=classifier,\n",
    "                      param_grid=param_grid, \n",
    "                      scoring=scoring,\n",
    "                      cv=5,\n",
    "                      n_jobs=-1)\n",
    "    gs = gs.fit(X_train, y_train)\n",
    "    return (gs.best_score_, gs.best_params_, gs.best_estimator_)\n",
    "\n",
    "def collect_scores(classifier, X_train, X_test, y_train, y_test):\n",
    "    classifier.fit(X_train, y_train)\n",
    "    y_pred = classifier.predict(X_test)\n",
    "    y_prob = classifier.predict_proba(X_test)[:,1]\n",
    "    auc = roc_auc_score(y_test, y_prob)\n",
    "    tn, fp, fn, tp = confusion_matrix(y_true=y_test, y_pred=y_pred).ravel()\n",
    "    \n",
    "    tpr = tp/(tp + fn)\n",
    "    tnr = tn/(fp + tn)\n",
    "    ppv = tp/(tp + fp)\n",
    "    npv = tn/(tn + fn)\n",
    "    plr = tpr/(1 - tnr)\n",
    "    nlr = (1 - tpr)/tnr\n",
    "    y_test_size = y_test.shape[0]\n",
    "    fn = fn/y_test_size\n",
    "    fp = fp/y_test_size\n",
    "    return [tpr, tnr, fn, fp, ppv, npv, plr, nlr, auc]"
   ]
  },
  {
   "cell_type": "code",
   "execution_count": 3,
   "metadata": {},
   "outputs": [],
   "source": [
    "def best_estimator(X, y):\n",
    "    best_lr, best_svm, best_rf = [0, 0], [0, 0], [0, 0]\n",
    "\n",
    "    pipe_lr = Pipeline([['sc', StandardScaler()], ['clf', LogisticRegression(n_jobs=-1, random_state=1)]])\n",
    "    pipe_svm = Pipeline([['sc', StandardScaler()], ['clf', SVC(probability=True, random_state=1)]])\n",
    "    rf = RandomForestClassifier(random_state=1, n_jobs=-1)\n",
    "\n",
    "    lr_grid = [{'clf__C': param_range,\n",
    "            'clf__penalty': ['l1','l2']}]\n",
    "\n",
    "    svm_grid = [{'clf__C': param_range,\n",
    "                'clf__kernel': ['rbf','sigmoid']}]\n",
    "    \n",
    "    rf_grid = [{\n",
    "    'bootstrap': [True],\n",
    "    'max_depth': [80, 90, 100, 110],\n",
    "    'max_features': [2, 3],\n",
    "    'min_samples_leaf': [3, 4, 5],\n",
    "    'min_samples_split': [8, 10, 12],\n",
    "    'n_estimators': [100, 200, 300, 1000]}]\n",
    "\n",
    "    kf = StratifiedKFold(10, random_state=1)\n",
    "    for train_index, test_index in kf.split(X, y):\n",
    "        X_train, X_test = X[train_index], X[test_index]\n",
    "        y_train, y_test = y[train_index], y[test_index]\n",
    "\n",
    "        lr = gsearch(pipe_lr, X_train, y_train, lr_grid)\n",
    "        svm = gsearch(pipe_svm, X_train, y_train, svm_grid)\n",
    "        rf_best = gsearch(rf, X_train, y_train, rf_grid)\n",
    "        if lr[0] > best_lr[0]:\n",
    "            best_lr[0] = lr[0]\n",
    "            best_lr[1] = lr\n",
    "        if svm[0] > best_svm[0]: \n",
    "            best_svm[0] = svm[0]\n",
    "            best_svm[1] = svm\n",
    "        if rf_best[0] > best_rf[0]: \n",
    "            best_rf[0] = rf_best[0]\n",
    "            best_rf[1] = rf_best\n",
    "            \n",
    "    return (best_lr[1][2], best_svm[1][2], best_rf[1][2], (best_lr[1][1], best_svm[1][1], best_rf[1][1]))"
   ]
  },
  {
   "cell_type": "code",
   "execution_count": 4,
   "metadata": {},
   "outputs": [],
   "source": [
    "def return_confusion(classifiers, X_train, X_test, y_train, y_test):\n",
    "    confmats = []\n",
    "    for classifier in classifiers:\n",
    "        classifier.fit(X_train, y_train)\n",
    "        y_pred = classifier.predict(X_test)\n",
    "        confmat = confusion_matrix(y_true=y_test, y_pred=y_pred)\n",
    "        confmats.append(confmat)\n",
    "    return confmats\n",
    "\n",
    "def plot_confusion(classifiers, X_train, X_test, y_train, y_test, title, save=False):\n",
    "    clf_names = [\"LR\", \"SVM\", \"RF\", \"BAGGING\"]\n",
    "    confmats = return_confusion(classifiers, X_train, X_test, y_train, y_test)\n",
    "    plt.figure(figsize=(6,6))\n",
    "    for ax_num, cnfm, clf_name in zip([221,222,223,224], confmats, clf_names):\n",
    "        ax = plt.subplot(ax_num)\n",
    "        ax.title.set_text(clf_name)\n",
    "\n",
    "        ax.matshow(cnfm, cmap=plt.cm.Blues, alpha=0.3)\n",
    "        for i in range(cnfm.shape[0]):\n",
    "            for j in range(cnfm.shape[1]):\n",
    "                ax.text(x=j, y=i, s=cnfm[i, j], va='center', ha='center')\n",
    "        \n",
    "        plt.xlabel('predicted label')\n",
    "        plt.ylabel('true label')\n",
    "\n",
    "    plt.suptitle(title, y=1.05, fontsize=16)\n",
    "    plt.tight_layout()\n",
    "    if save:\n",
    "        plt.savefig(save, dpi=300, bbox_inches='tight')\n",
    "    plt.show()"
   ]
  },
  {
   "cell_type": "markdown",
   "metadata": {},
   "source": [
    "# Importing Data"
   ]
  },
  {
   "cell_type": "code",
   "execution_count": 5,
   "metadata": {},
   "outputs": [],
   "source": [
    "data = pd.read_excel(\"NAFLD with FIB4 and NFS Scores.xlsx\").drop(294)\n",
    "features_df = data.iloc[:,1:-13].drop(['Height', 'Weight'], axis=1)\n",
    "targets_df = data[['Significant Fibrosis (No=0, Yes=1) (If Fibrosis 2 and above, there is Significant Fibrosis)',\n",
    "                         'Advanced Fibrosis (No=0, Yes=1) (If Fibrosis is 3 and above, there is Advanced Fibrosis)']]"
   ]
  },
  {
   "cell_type": "code",
   "execution_count": 6,
   "metadata": {},
   "outputs": [],
   "source": [
    "baseline2 = features_df.dropna(axis=1) # shape: (604, 16)"
   ]
  },
  {
   "cell_type": "code",
   "execution_count": 7,
   "metadata": {
    "scrolled": true
   },
   "outputs": [
    {
     "data": {
      "text/plain": [
       "Index(['Age', 'Gender (Female=1, Male=2)', 'Body Mass Index',\n",
       "       'Systolic Blood Pressure', 'Diastolic Blood Pressure',\n",
       "       'Diyabetes Mellitus (No=0, Yes=1)', 'Hypertension (No=0, Yes=1)',\n",
       "       'Hyperlipidemia (No=0, Yes=1)', 'Metabolic syndrome (No=0, Yes=1)',\n",
       "       'AST', 'ALT', 'Albumin', 'Total Cholesterol', 'Leukocyte', 'Hemoglobin',\n",
       "       'Trombosit'],\n",
       "      dtype='object')"
      ]
     },
     "execution_count": 7,
     "metadata": {},
     "output_type": "execute_result"
    }
   ],
   "source": [
    "baseline2.columns"
   ]
  },
  {
   "cell_type": "markdown",
   "metadata": {},
   "source": [
    "## Baseline (No missed values)"
   ]
  },
  {
   "cell_type": "code",
   "execution_count": 8,
   "metadata": {},
   "outputs": [],
   "source": [
    "models_4_SF = best_estimator(baseline2.values, targets_df.iloc[:,0].values)\n",
    "models_4_AF = best_estimator(baseline2.values, targets_df.iloc[:,1].values)"
   ]
  },
  {
   "cell_type": "code",
   "execution_count": 9,
   "metadata": {},
   "outputs": [
    {
     "data": {
      "text/plain": [
       "({'clf__C': 0.001, 'clf__penalty': 'l2'},\n",
       " {'clf__C': 10.0, 'clf__kernel': 'rbf'},\n",
       " {'bootstrap': True,\n",
       "  'max_depth': 80,\n",
       "  'max_features': 3,\n",
       "  'min_samples_leaf': 3,\n",
       "  'min_samples_split': 8,\n",
       "  'n_estimators': 200})"
      ]
     },
     "execution_count": 9,
     "metadata": {},
     "output_type": "execute_result"
    }
   ],
   "source": [
    "models_4_AF[3] # best parameters of the models"
   ]
  },
  {
   "cell_type": "code",
   "execution_count": 10,
   "metadata": {},
   "outputs": [],
   "source": [
    "lr_best_sf, svm_best_sf, rf_best_sf = models_4_SF[0], models_4_SF[1], models_4_SF[2]\n",
    "lr_best_af, svm_best_af, rf_best_af = models_4_AF[0], models_4_AF[1], models_4_AF[2]"
   ]
  },
  {
   "cell_type": "code",
   "execution_count": 11,
   "metadata": {},
   "outputs": [],
   "source": [
    "bagging = BaggingClassifier(DecisionTreeClassifier(), n_jobs=-1, random_state=1)\n",
    "\n",
    "sf_models = [lr_best_sf, svm_best_sf, rf_best_sf, bagging]\n",
    "af_models = [lr_best_af, svm_best_af, rf_best_af, bagging]"
   ]
  },
  {
   "cell_type": "code",
   "execution_count": 12,
   "metadata": {},
   "outputs": [],
   "source": [
    "comparison_table = {}\n",
    "kf = StratifiedKFold(10, random_state=1)\n",
    "X = baseline2.values\n",
    "\n",
    "for idx, models in enumerate([sf_models, af_models]):\n",
    "    if idx == 0: target = \"SF\"\n",
    "    else: target = \"AF\"\n",
    "    comparison_table.setdefault(target, [])\n",
    "    for mdl in models:\n",
    "        avrg = []\n",
    "        y = targets_df.iloc[:,idx].values\n",
    "        for train_index, test_index in kf.split(X, y):\n",
    "            X_train, X_test = X[train_index], X[test_index]\n",
    "            y_train, y_test = y[train_index], y[test_index]\n",
    "            avrg.append(collect_scores(mdl, X_train, X_test, y_train, y_test))\n",
    "        avrg = pd.DataFrame(np.array(avrg)).replace({np.inf:np.nan}).values\n",
    "        avrg_list = np.round(np.nanmean(avrg, axis=0, dtype=np.float64),3).tolist()\n",
    "        avrg_list[0], avrg_list[1] = round(avrg_list[0]*100), round(avrg_list[1]*100)\n",
    "        avrg_list[2], avrg_list[3] = avrg_list[2], avrg_list[3]\n",
    "        comparison_table[target].append(avrg_list)"
   ]
  },
  {
   "cell_type": "code",
   "execution_count": 13,
   "metadata": {},
   "outputs": [
    {
     "data": {
      "text/html": [
       "<div>\n",
       "<style scoped>\n",
       "    .dataframe tbody tr th:only-of-type {\n",
       "        vertical-align: middle;\n",
       "    }\n",
       "\n",
       "    .dataframe tbody tr th {\n",
       "        vertical-align: top;\n",
       "    }\n",
       "\n",
       "    .dataframe thead th {\n",
       "        text-align: right;\n",
       "    }\n",
       "</style>\n",
       "<table border=\"1\" class=\"dataframe\">\n",
       "  <thead>\n",
       "    <tr style=\"text-align: right;\">\n",
       "      <th></th>\n",
       "      <th></th>\n",
       "      <th>Sensitivity (%)</th>\n",
       "      <th>Specificity (%)</th>\n",
       "      <th>FN</th>\n",
       "      <th>FP</th>\n",
       "      <th>PPV</th>\n",
       "      <th>NPV</th>\n",
       "      <th>PLR</th>\n",
       "      <th>NLR</th>\n",
       "      <th>AUC</th>\n",
       "    </tr>\n",
       "  </thead>\n",
       "  <tbody>\n",
       "    <tr>\n",
       "      <th>SIGNIFICANT</th>\n",
       "      <th>LR</th>\n",
       "      <td>54.0</td>\n",
       "      <td>78.0</td>\n",
       "      <td>0.167</td>\n",
       "      <td>0.141</td>\n",
       "      <td>0.576</td>\n",
       "      <td>0.752</td>\n",
       "      <td>2.689</td>\n",
       "      <td>0.602</td>\n",
       "      <td>0.701</td>\n",
       "    </tr>\n",
       "    <tr>\n",
       "      <th>FIBROSIS</th>\n",
       "      <th>SVM</th>\n",
       "      <td>40.0</td>\n",
       "      <td>82.0</td>\n",
       "      <td>0.219</td>\n",
       "      <td>0.116</td>\n",
       "      <td>0.556</td>\n",
       "      <td>0.707</td>\n",
       "      <td>2.556</td>\n",
       "      <td>0.743</td>\n",
       "      <td>0.708</td>\n",
       "    </tr>\n",
       "    <tr>\n",
       "      <th rowspan=\"2\" valign=\"top\"></th>\n",
       "      <th>RandomForest</th>\n",
       "      <td>39.0</td>\n",
       "      <td>85.0</td>\n",
       "      <td>0.220</td>\n",
       "      <td>0.095</td>\n",
       "      <td>0.612</td>\n",
       "      <td>0.712</td>\n",
       "      <td>3.545</td>\n",
       "      <td>0.722</td>\n",
       "      <td>0.742</td>\n",
       "    </tr>\n",
       "    <tr>\n",
       "      <th>Bagging</th>\n",
       "      <td>42.0</td>\n",
       "      <td>81.0</td>\n",
       "      <td>0.208</td>\n",
       "      <td>0.124</td>\n",
       "      <td>0.557</td>\n",
       "      <td>0.712</td>\n",
       "      <td>2.760</td>\n",
       "      <td>0.728</td>\n",
       "      <td>0.700</td>\n",
       "    </tr>\n",
       "  </tbody>\n",
       "</table>\n",
       "</div>"
      ],
      "text/plain": [
       "                          Sensitivity (%)  Specificity (%)     FN     FP  \\\n",
       "SIGNIFICANT LR                       54.0             78.0  0.167  0.141   \n",
       "FIBROSIS    SVM                      40.0             82.0  0.219  0.116   \n",
       "            RandomForest             39.0             85.0  0.220  0.095   \n",
       "            Bagging                  42.0             81.0  0.208  0.124   \n",
       "\n",
       "                            PPV    NPV    PLR    NLR    AUC  \n",
       "SIGNIFICANT LR            0.576  0.752  2.689  0.602  0.701  \n",
       "FIBROSIS    SVM           0.556  0.707  2.556  0.743  0.708  \n",
       "            RandomForest  0.612  0.712  3.545  0.722  0.742  \n",
       "            Bagging       0.557  0.712  2.760  0.728  0.700  "
      ]
     },
     "execution_count": 13,
     "metadata": {},
     "output_type": "execute_result"
    }
   ],
   "source": [
    "columns = ['Sensitivity (%)', 'Specificity (%)', 'FN', 'FP', 'PPV', 'NPV', 'PLR', 'NLR', 'AUC']\n",
    "index = ['LR', 'SVM', 'RandomForest', 'Bagging']\n",
    "index1 = pd.MultiIndex.from_tuples([('SIGNIFICANT', 'LR'), ('FIBROSIS', 'SVM'), ('','RandomForest'), ('', 'Bagging')])\n",
    "sf_table_df = pd.DataFrame(np.array(comparison_table['SF']), index=index1, columns=columns)\n",
    "sf_table_df"
   ]
  },
  {
   "cell_type": "code",
   "execution_count": 14,
   "metadata": {
    "scrolled": false
   },
   "outputs": [
    {
     "data": {
      "text/html": [
       "<div>\n",
       "<style scoped>\n",
       "    .dataframe tbody tr th:only-of-type {\n",
       "        vertical-align: middle;\n",
       "    }\n",
       "\n",
       "    .dataframe tbody tr th {\n",
       "        vertical-align: top;\n",
       "    }\n",
       "\n",
       "    .dataframe thead th {\n",
       "        text-align: right;\n",
       "    }\n",
       "</style>\n",
       "<table border=\"1\" class=\"dataframe\">\n",
       "  <thead>\n",
       "    <tr style=\"text-align: right;\">\n",
       "      <th></th>\n",
       "      <th></th>\n",
       "      <th>Sensitivity (%)</th>\n",
       "      <th>Specificity (%)</th>\n",
       "      <th>FN</th>\n",
       "      <th>FP</th>\n",
       "      <th>PPV</th>\n",
       "      <th>NPV</th>\n",
       "      <th>PLR</th>\n",
       "      <th>NLR</th>\n",
       "      <th>AUC</th>\n",
       "    </tr>\n",
       "  </thead>\n",
       "  <tbody>\n",
       "    <tr>\n",
       "      <th>ADVANCED</th>\n",
       "      <th>LR</th>\n",
       "      <td>39.0</td>\n",
       "      <td>89.0</td>\n",
       "      <td>0.109</td>\n",
       "      <td>0.088</td>\n",
       "      <td>0.449</td>\n",
       "      <td>0.871</td>\n",
       "      <td>4.475</td>\n",
       "      <td>0.686</td>\n",
       "      <td>0.764</td>\n",
       "    </tr>\n",
       "    <tr>\n",
       "      <th>FIBROSIS</th>\n",
       "      <th>SVM</th>\n",
       "      <td>33.0</td>\n",
       "      <td>90.0</td>\n",
       "      <td>0.119</td>\n",
       "      <td>0.078</td>\n",
       "      <td>0.496</td>\n",
       "      <td>0.862</td>\n",
       "      <td>3.967</td>\n",
       "      <td>0.736</td>\n",
       "      <td>0.738</td>\n",
       "    </tr>\n",
       "    <tr>\n",
       "      <th rowspan=\"2\" valign=\"top\"></th>\n",
       "      <th>RandomForest</th>\n",
       "      <td>10.0</td>\n",
       "      <td>99.0</td>\n",
       "      <td>0.162</td>\n",
       "      <td>0.012</td>\n",
       "      <td>0.483</td>\n",
       "      <td>0.834</td>\n",
       "      <td>6.676</td>\n",
       "      <td>0.918</td>\n",
       "      <td>0.780</td>\n",
       "    </tr>\n",
       "    <tr>\n",
       "      <th>Bagging</th>\n",
       "      <td>23.0</td>\n",
       "      <td>95.0</td>\n",
       "      <td>0.137</td>\n",
       "      <td>0.038</td>\n",
       "      <td>0.517</td>\n",
       "      <td>0.851</td>\n",
       "      <td>6.348</td>\n",
       "      <td>0.805</td>\n",
       "      <td>0.762</td>\n",
       "    </tr>\n",
       "  </tbody>\n",
       "</table>\n",
       "</div>"
      ],
      "text/plain": [
       "                       Sensitivity (%)  Specificity (%)     FN     FP    PPV  \\\n",
       "ADVANCED LR                       39.0             89.0  0.109  0.088  0.449   \n",
       "FIBROSIS SVM                      33.0             90.0  0.119  0.078  0.496   \n",
       "         RandomForest             10.0             99.0  0.162  0.012  0.483   \n",
       "         Bagging                  23.0             95.0  0.137  0.038  0.517   \n",
       "\n",
       "                         NPV    PLR    NLR    AUC  \n",
       "ADVANCED LR            0.871  4.475  0.686  0.764  \n",
       "FIBROSIS SVM           0.862  3.967  0.736  0.738  \n",
       "         RandomForest  0.834  6.676  0.918  0.780  \n",
       "         Bagging       0.851  6.348  0.805  0.762  "
      ]
     },
     "execution_count": 14,
     "metadata": {},
     "output_type": "execute_result"
    }
   ],
   "source": [
    "index2 = pd.MultiIndex.from_tuples([('ADVANCED', 'LR'), ('FIBROSIS', 'SVM'), ('', 'RandomForest'), ('', 'Bagging')])\n",
    "af_table_df = pd.DataFrame(np.array(comparison_table['AF']), index=index2, columns=columns)\n",
    "af_table_df"
   ]
  },
  {
   "cell_type": "markdown",
   "metadata": {},
   "source": [
    "### Confusion Matrices"
   ]
  },
  {
   "cell_type": "code",
   "execution_count": 15,
   "metadata": {},
   "outputs": [],
   "source": [
    "X_train_sf_0, X_test_sf_0, y_train_sf_0, y_test_sf_0 = train_test_split(\n",
    "    baseline2.values, targets_df.iloc[:,0].values, test_size=0.2, random_state=1, stratify= y)\n",
    "\n",
    "X_train_af_0, X_test_af_0, y_train_af_0, y_test_af_0 = train_test_split(\n",
    "    baseline2.values, targets_df.iloc[:,1].values, test_size=0.2, random_state=1, stratify= y)"
   ]
  },
  {
   "cell_type": "code",
   "execution_count": 16,
   "metadata": {},
   "outputs": [
    {
     "data": {
      "image/png": "[encoded data removed]",
      "text/plain": [
       "<matplotlib.figure.Figure at 0x19f46f76a0>"
      ]
     },
     "metadata": {},
     "output_type": "display_data"
    }
   ],
   "source": [
    "sf_title_0 = \"Significant Fibrosis Without Missed Data\"\n",
    "plot_confusion(sf_models, X_train_sf_0, X_test_sf_0, y_train_sf_0, y_test_sf_0, sf_title_0, save=False)"
   ]
  },
  {
   "cell_type": "code",
   "execution_count": 17,
   "metadata": {},
   "outputs": [
    {
     "data": {
      "image/png": "[encoded data removed]",
      "text/plain": [
       "<matplotlib.figure.Figure at 0x19f4689ac8>"
      ]
     },
     "metadata": {},
     "output_type": "display_data"
    }
   ],
   "source": [
    "af_title_0 = \"Advanced Fibrosis Without Missed Data\"\n",
    "plot_confusion(af_models, X_train_af_0, X_test_af_0, y_train_af_0, y_test_af_0, af_title_0, save=False)"
   ]
  },
  {
   "cell_type": "markdown",
   "metadata": {},
   "source": [
    "## 25% Threshold"
   ]
  },
  {
   "cell_type": "code",
   "execution_count": 18,
   "metadata": {},
   "outputs": [],
   "source": [
    "missing_data_percentages = features_df.isnull().mean()\n",
    "threshold_25_df = features_df.iloc[:, missing_data_percentages.values < 0.25]\n",
    "knn_25 = fast_knn(threshold_25_df.values, k=30)"
   ]
  },
  {
   "cell_type": "code",
   "execution_count": 19,
   "metadata": {},
   "outputs": [],
   "source": [
    "models_25_SF = best_estimator(knn_25, targets_df.iloc[:,0].values)\n",
    "models_25_AF = best_estimator(knn_25, targets_df.iloc[:,1].values)"
   ]
  },
  {
   "cell_type": "code",
   "execution_count": 20,
   "metadata": {},
   "outputs": [
    {
     "data": {
      "text/plain": [
       "({'clf__C': 0.001, 'clf__penalty': 'l2'},\n",
       " {'clf__C': 100.0, 'clf__kernel': 'rbf'},\n",
       " {'bootstrap': True,\n",
       "  'max_depth': 80,\n",
       "  'max_features': 3,\n",
       "  'min_samples_leaf': 3,\n",
       "  'min_samples_split': 8,\n",
       "  'n_estimators': 100})"
      ]
     },
     "execution_count": 20,
     "metadata": {},
     "output_type": "execute_result"
    }
   ],
   "source": [
    "models_25_AF[3] # best parameters of the models"
   ]
  },
  {
   "cell_type": "code",
   "execution_count": 21,
   "metadata": {},
   "outputs": [],
   "source": [
    "lr_best_sf_25, svm_best_sf_25, rf_best_sf_25 = models_25_SF[0], models_25_SF[1], models_25_SF[2]\n",
    "lr_best_af_25, svm_best_af_25, rf_best_af_25 = models_25_AF[0], models_25_AF[1], models_25_AF[2]"
   ]
  },
  {
   "cell_type": "code",
   "execution_count": 22,
   "metadata": {},
   "outputs": [],
   "source": [
    "bagging = BaggingClassifier(DecisionTreeClassifier(), n_jobs=-1, random_state=1)\n",
    "\n",
    "sf_25_models = [lr_best_sf_25, svm_best_sf_25, rf_best_sf_25, bagging]\n",
    "af_25_models = [lr_best_af_25, svm_best_af_25, rf_best_af_25, bagging]"
   ]
  },
  {
   "cell_type": "code",
   "execution_count": 23,
   "metadata": {
    "scrolled": true
   },
   "outputs": [],
   "source": [
    "comparison_table_25 = {}\n",
    "kf = StratifiedKFold(10, random_state=1)\n",
    "X = knn_25\n",
    "\n",
    "for idx, models in enumerate([sf_25_models, af_25_models]):\n",
    "    if idx == 0: target = \"SF\"\n",
    "    else: target = \"AF\"\n",
    "    comparison_table_25.setdefault(target, [])\n",
    "    for mdl in models:\n",
    "        avrg = []\n",
    "        y = targets_df.iloc[:,idx].values\n",
    "        for train_index, test_index in kf.split(X, y):\n",
    "            X_train, X_test = X[train_index], X[test_index]\n",
    "            y_train, y_test = y[train_index], y[test_index]\n",
    "            avrg.append(collect_scores(mdl, X_train, X_test, y_train, y_test))\n",
    "        avrg = pd.DataFrame(np.array(avrg)).replace({np.inf:np.nan}).values\n",
    "        avrg_list = np.round(np.nanmean(avrg, axis=0, dtype=np.float64),3).tolist()\n",
    "        avrg_list[0], avrg_list[1] = round(avrg_list[0]*100), round(avrg_list[1]*100)\n",
    "        avrg_list[2], avrg_list[3] = avrg_list[2], avrg_list[3]\n",
    "        comparison_table_25[target].append(avrg_list)"
   ]
  },
  {
   "cell_type": "code",
   "execution_count": 24,
   "metadata": {},
   "outputs": [
    {
     "data": {
      "text/html": [
       "<div>\n",
       "<style scoped>\n",
       "    .dataframe tbody tr th:only-of-type {\n",
       "        vertical-align: middle;\n",
       "    }\n",
       "\n",
       "    .dataframe tbody tr th {\n",
       "        vertical-align: top;\n",
       "    }\n",
       "\n",
       "    .dataframe thead th {\n",
       "        text-align: right;\n",
       "    }\n",
       "</style>\n",
       "<table border=\"1\" class=\"dataframe\">\n",
       "  <thead>\n",
       "    <tr style=\"text-align: right;\">\n",
       "      <th></th>\n",
       "      <th></th>\n",
       "      <th>Sensitivity (%)</th>\n",
       "      <th>Specificity (%)</th>\n",
       "      <th>FN</th>\n",
       "      <th>FP</th>\n",
       "      <th>PPV</th>\n",
       "      <th>NPV</th>\n",
       "      <th>PLR</th>\n",
       "      <th>NLR</th>\n",
       "      <th>AUC</th>\n",
       "    </tr>\n",
       "  </thead>\n",
       "  <tbody>\n",
       "    <tr>\n",
       "      <th>SIGNIFICANT</th>\n",
       "      <th>LR</th>\n",
       "      <td>49.0</td>\n",
       "      <td>81.0</td>\n",
       "      <td>0.184</td>\n",
       "      <td>0.123</td>\n",
       "      <td>0.587</td>\n",
       "      <td>0.739</td>\n",
       "      <td>3.624</td>\n",
       "      <td>0.643</td>\n",
       "      <td>0.714</td>\n",
       "    </tr>\n",
       "    <tr>\n",
       "      <th>FIBROSIS</th>\n",
       "      <th>SVM</th>\n",
       "      <td>46.0</td>\n",
       "      <td>79.0</td>\n",
       "      <td>0.197</td>\n",
       "      <td>0.136</td>\n",
       "      <td>0.547</td>\n",
       "      <td>0.720</td>\n",
       "      <td>2.960</td>\n",
       "      <td>0.709</td>\n",
       "      <td>0.689</td>\n",
       "    </tr>\n",
       "    <tr>\n",
       "      <th rowspan=\"2\" valign=\"top\"></th>\n",
       "      <th>RandomForest</th>\n",
       "      <td>33.0</td>\n",
       "      <td>88.0</td>\n",
       "      <td>0.241</td>\n",
       "      <td>0.076</td>\n",
       "      <td>0.616</td>\n",
       "      <td>0.701</td>\n",
       "      <td>3.496</td>\n",
       "      <td>0.769</td>\n",
       "      <td>0.722</td>\n",
       "    </tr>\n",
       "    <tr>\n",
       "      <th>Bagging</th>\n",
       "      <td>36.0</td>\n",
       "      <td>82.0</td>\n",
       "      <td>0.232</td>\n",
       "      <td>0.113</td>\n",
       "      <td>0.539</td>\n",
       "      <td>0.696</td>\n",
       "      <td>2.267</td>\n",
       "      <td>0.780</td>\n",
       "      <td>0.675</td>\n",
       "    </tr>\n",
       "  </tbody>\n",
       "</table>\n",
       "</div>"
      ],
      "text/plain": [
       "                          Sensitivity (%)  Specificity (%)     FN     FP  \\\n",
       "SIGNIFICANT LR                       49.0             81.0  0.184  0.123   \n",
       "FIBROSIS    SVM                      46.0             79.0  0.197  0.136   \n",
       "            RandomForest             33.0             88.0  0.241  0.076   \n",
       "            Bagging                  36.0             82.0  0.232  0.113   \n",
       "\n",
       "                            PPV    NPV    PLR    NLR    AUC  \n",
       "SIGNIFICANT LR            0.587  0.739  3.624  0.643  0.714  \n",
       "FIBROSIS    SVM           0.547  0.720  2.960  0.709  0.689  \n",
       "            RandomForest  0.616  0.701  3.496  0.769  0.722  \n",
       "            Bagging       0.539  0.696  2.267  0.780  0.675  "
      ]
     },
     "execution_count": 24,
     "metadata": {},
     "output_type": "execute_result"
    }
   ],
   "source": [
    "index3 = pd.MultiIndex.from_tuples([('SIGNIFICANT', 'LR'), ('FIBROSIS', 'SVM'), ('', 'RandomForest'), ('', 'Bagging')])\n",
    "sf_table_25_df = pd.DataFrame(np.array(comparison_table_25['SF']), index=index3, columns=columns)\n",
    "sf_table_25_df"
   ]
  },
  {
   "cell_type": "code",
   "execution_count": 25,
   "metadata": {
    "scrolled": true
   },
   "outputs": [
    {
     "data": {
      "text/html": [
       "<div>\n",
       "<style scoped>\n",
       "    .dataframe tbody tr th:only-of-type {\n",
       "        vertical-align: middle;\n",
       "    }\n",
       "\n",
       "    .dataframe tbody tr th {\n",
       "        vertical-align: top;\n",
       "    }\n",
       "\n",
       "    .dataframe thead th {\n",
       "        text-align: right;\n",
       "    }\n",
       "</style>\n",
       "<table border=\"1\" class=\"dataframe\">\n",
       "  <thead>\n",
       "    <tr style=\"text-align: right;\">\n",
       "      <th></th>\n",
       "      <th></th>\n",
       "      <th>Sensitivity (%)</th>\n",
       "      <th>Specificity (%)</th>\n",
       "      <th>FN</th>\n",
       "      <th>FP</th>\n",
       "      <th>PPV</th>\n",
       "      <th>NPV</th>\n",
       "      <th>PLR</th>\n",
       "      <th>NLR</th>\n",
       "      <th>AUC</th>\n",
       "    </tr>\n",
       "  </thead>\n",
       "  <tbody>\n",
       "    <tr>\n",
       "      <th>ADVANCED</th>\n",
       "      <th>LR</th>\n",
       "      <td>53.0</td>\n",
       "      <td>84.0</td>\n",
       "      <td>0.084</td>\n",
       "      <td>0.128</td>\n",
       "      <td>0.438</td>\n",
       "      <td>0.893</td>\n",
       "      <td>4.074</td>\n",
       "      <td>0.555</td>\n",
       "      <td>0.781</td>\n",
       "    </tr>\n",
       "    <tr>\n",
       "      <th>FIBROSIS</th>\n",
       "      <th>SVM</th>\n",
       "      <td>33.0</td>\n",
       "      <td>92.0</td>\n",
       "      <td>0.121</td>\n",
       "      <td>0.068</td>\n",
       "      <td>0.439</td>\n",
       "      <td>0.865</td>\n",
       "      <td>4.392</td>\n",
       "      <td>0.725</td>\n",
       "      <td>0.751</td>\n",
       "    </tr>\n",
       "    <tr>\n",
       "      <th rowspan=\"2\" valign=\"top\"></th>\n",
       "      <th>RandomForest</th>\n",
       "      <td>8.0</td>\n",
       "      <td>100.0</td>\n",
       "      <td>0.164</td>\n",
       "      <td>0.002</td>\n",
       "      <td>0.800</td>\n",
       "      <td>0.834</td>\n",
       "      <td>0.000</td>\n",
       "      <td>0.918</td>\n",
       "      <td>0.782</td>\n",
       "    </tr>\n",
       "    <tr>\n",
       "      <th>Bagging</th>\n",
       "      <td>17.0</td>\n",
       "      <td>95.0</td>\n",
       "      <td>0.149</td>\n",
       "      <td>0.040</td>\n",
       "      <td>0.351</td>\n",
       "      <td>0.841</td>\n",
       "      <td>4.372</td>\n",
       "      <td>0.870</td>\n",
       "      <td>0.720</td>\n",
       "    </tr>\n",
       "  </tbody>\n",
       "</table>\n",
       "</div>"
      ],
      "text/plain": [
       "                       Sensitivity (%)  Specificity (%)     FN     FP    PPV  \\\n",
       "ADVANCED LR                       53.0             84.0  0.084  0.128  0.438   \n",
       "FIBROSIS SVM                      33.0             92.0  0.121  0.068  0.439   \n",
       "         RandomForest              8.0            100.0  0.164  0.002  0.800   \n",
       "         Bagging                  17.0             95.0  0.149  0.040  0.351   \n",
       "\n",
       "                         NPV    PLR    NLR    AUC  \n",
       "ADVANCED LR            0.893  4.074  0.555  0.781  \n",
       "FIBROSIS SVM           0.865  4.392  0.725  0.751  \n",
       "         RandomForest  0.834  0.000  0.918  0.782  \n",
       "         Bagging       0.841  4.372  0.870  0.720  "
      ]
     },
     "execution_count": 25,
     "metadata": {},
     "output_type": "execute_result"
    }
   ],
   "source": [
    "index4 = pd.MultiIndex.from_tuples([('ADVANCED', 'LR'), ('FIBROSIS', 'SVM'), ('', 'RandomForest'), ('', 'Bagging')])\n",
    "af_table_25_df = pd.DataFrame(np.array(comparison_table_25['AF']), index=index4, columns=columns)\n",
    "af_table_25_df"
   ]
  },
  {
   "cell_type": "markdown",
   "metadata": {},
   "source": [
    "### Confusion Matrices"
   ]
  },
  {
   "cell_type": "code",
   "execution_count": 26,
   "metadata": {},
   "outputs": [],
   "source": [
    "X_train_sf_25, X_test_sf_25, y_train_sf_25, y_test_sf_25 = train_test_split(\n",
    "    knn_25, targets_df.iloc[:,0].values, test_size=0.2, random_state=1, stratify=y)\n",
    "\n",
    "X_train_af_25, X_test_af_25, y_train_af_25, y_test_af_25 = train_test_split(\n",
    "    knn_25, targets_df.iloc[:,1].values, test_size=0.2, random_state=1, stratify=y)"
   ]
  },
  {
   "cell_type": "code",
   "execution_count": 27,
   "metadata": {},
   "outputs": [
    {
     "data": {
      "image/png": "[encoded data removed]",
      "text/plain": [
       "<matplotlib.figure.Figure at 0x19f6877cc0>"
      ]
     },
     "metadata": {},
     "output_type": "display_data"
    }
   ],
   "source": [
    "sf_title_25 = \"Significant Fibrosis With 25% Threshold\"\n",
    "plot_confusion(sf_25_models, X_train_sf_25, X_test_sf_25, y_train_sf_25, y_test_sf_25, sf_title_25, save=False)"
   ]
  },
  {
   "cell_type": "code",
   "execution_count": 28,
   "metadata": {},
   "outputs": [
    {
     "data": {
      "image/png": "[encoded data removed]",
      "text/plain": [
       "<matplotlib.figure.Figure at 0x19f45e4fd0>"
      ]
     },
     "metadata": {},
     "output_type": "display_data"
    }
   ],
   "source": [
    "af_title_25 = \"Advanced Fibrosis With 25% Threshold\"\n",
    "plot_confusion(af_25_models, X_train_af_25, X_test_af_25, y_train_af_25, y_test_af_25, af_title_25, save=False)"
   ]
  },
  {
   "cell_type": "markdown",
   "metadata": {},
   "source": [
    "## Keeping Models In The Storage"
   ]
  },
  {
   "cell_type": "code",
   "execution_count": 29,
   "metadata": {},
   "outputs": [],
   "source": [
    "keep_models = {'0':{'SF':models_4_SF, 'AF':models_4_AF},\n",
    "               '25':{'SF':models_25_SF, 'AF':models_25_AF}}\n",
    "with open('workingOnFibrosis1_best_models.db','wb') as models:\n",
    "    pickle.dump(keep_models, models)"
   ]
  }
 ],
 "metadata": {
  "kernelspec": {
   "display_name": "Python 3",
   "language": "python",
   "name": "python3"
  },
  "language_info": {
   "codemirror_mode": {
    "name": "ipython",
    "version": 3
   },
   "file_extension": ".py",
   "mimetype": "text/x-python",
   "name": "python",
   "nbconvert_exporter": "python",
   "pygments_lexer": "ipython3",
   "version": "3.7.3"
  }
 },
 "nbformat": 4,
 "nbformat_minor": 2
}
