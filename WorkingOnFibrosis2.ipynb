{
 "cells": [
  {
   "cell_type": "markdown",
   "metadata": {},
   "source": [
    "# Comparison Tables By Metrice Scores"
   ]
  },
  {
   "cell_type": "code",
   "execution_count": 1,
   "metadata": {},
   "outputs": [],
   "source": [
    "import numpy as np\n",
    "import pandas as pd\n",
    "import matplotlib.pyplot as plt\n",
    "from sklearn.model_selection import train_test_split\n",
    "from sklearn.preprocessing import StandardScaler\n",
    "from sklearn.model_selection import GridSearchCV\n",
    "from sklearn.pipeline import Pipeline\n",
    "from impyute.imputation.cs import fast_knn\n",
    "import pickle\n",
    "\n",
    "# Scores\n",
    "from sklearn.metrics import confusion_matrix\n",
    "from sklearn.metrics import roc_auc_score\n",
    "from sklearn.model_selection import StratifiedKFold\n",
    "from sklearn.metrics import make_scorer\n",
    "\n",
    "# Classifiers\n",
    "from sklearn.linear_model import LogisticRegression\n",
    "from sklearn.svm import SVC\n",
    "from sklearn.tree import DecisionTreeClassifier\n",
    "\n",
    "# Ensemble models\n",
    "from sklearn.ensemble import RandomForestClassifier\n",
    "from sklearn.ensemble import BaggingClassifier\n",
    "\n",
    "# Ignoring Errors\n",
    "import warnings\n",
    "warnings.simplefilter('ignore')"
   ]
  },
  {
   "cell_type": "code",
   "execution_count": 2,
   "metadata": {},
   "outputs": [],
   "source": [
    "param_range = [0.001, 0.01, 0.1, 1.0, 10.0, 100.0]\n",
    "scoring = make_scorer(roc_auc_score)\n",
    "def gsearch(classifier, X_train, y_train, param_grid, scoring=scoring):\n",
    "    gs = GridSearchCV(estimator=classifier,\n",
    "                      param_grid=param_grid, \n",
    "                      scoring=scoring,\n",
    "                      cv=5,\n",
    "                      n_jobs=-1)\n",
    "    gs = gs.fit(X_train, y_train)\n",
    "    return (gs.best_score_, gs.best_params_, gs.best_estimator_)\n",
    "\n",
    "def collect_scores(classifier, X_train, X_test, y_train, y_test):\n",
    "    classifier.fit(X_train, y_train)\n",
    "    y_pred = classifier.predict(X_test)\n",
    "    y_prob = classifier.predict_proba(X_test)[:,1]\n",
    "    auc = roc_auc_score(y_test, y_prob)\n",
    "    tn, fp, fn, tp = confusion_matrix(y_true=y_test, y_pred=y_pred).ravel()\n",
    "    \n",
    "    tpr = tp/(tp + fn)\n",
    "    tnr = tn/(fp + tn)\n",
    "    ppv = tp/(tp + fp)\n",
    "    npv = tn/(tn + fn)\n",
    "    plr = tpr/(1 - tnr)\n",
    "    nlr = (1 - tpr)/tnr\n",
    "    y_test_size = y_test.shape[0]\n",
    "    fn = fn/y_test_size\n",
    "    fp = fp/y_test_size\n",
    "    return [tpr, tnr, fn, fp, ppv, npv, plr, nlr, auc]"
   ]
  },
  {
   "cell_type": "code",
   "execution_count": 3,
   "metadata": {},
   "outputs": [],
   "source": [
    "def best_estimator(X, y):\n",
    "    best_lr, best_svm, best_rf = [0, 0], [0, 0], [0, 0]\n",
    "\n",
    "    pipe_lr = Pipeline([['sc', StandardScaler()], ['clf', LogisticRegression(n_jobs=-1, random_state=1)]])\n",
    "    pipe_svm = Pipeline([['sc', StandardScaler()], ['clf', SVC(probability=True, random_state=1)]])\n",
    "    rf = RandomForestClassifier(random_state=1, n_jobs=-1)\n",
    "\n",
    "    lr_grid = [{'clf__C': param_range,\n",
    "            'clf__penalty': ['l1','l2']}]\n",
    "\n",
    "    svm_grid = [{'clf__C': param_range,\n",
    "                'clf__kernel': ['rbf','sigmoid']}]\n",
    "    \n",
    "    rf_grid = [{\n",
    "    'bootstrap': [True],\n",
    "    'max_depth': [80, 90, 100, 110],\n",
    "    'max_features': [2, 3],\n",
    "    'min_samples_leaf': [3, 4, 5],\n",
    "    'min_samples_split': [8, 10, 12],\n",
    "    'n_estimators': [100, 200, 300, 1000]}]\n",
    "\n",
    "    kf = StratifiedKFold(10, random_state=1)\n",
    "    for train_index, test_index in kf.split(X, y):\n",
    "        X_train, X_test = X[train_index], X[test_index]\n",
    "        y_train, y_test = y[train_index], y[test_index]\n",
    "\n",
    "        lr = gsearch(pipe_lr, X_train, y_train, lr_grid)\n",
    "        svm = gsearch(pipe_svm, X_train, y_train, svm_grid)\n",
    "        rf_best = gsearch(rf, X_train, y_train, rf_grid)\n",
    "        if lr[0] > best_lr[0]:\n",
    "            best_lr[0] = lr[0]\n",
    "            best_lr[1] = lr\n",
    "        if svm[0] > best_svm[0]: \n",
    "            best_svm[0] = svm[0]\n",
    "            best_svm[1] = svm\n",
    "        if rf_best[0] > best_rf[0]: \n",
    "            best_rf[0] = rf_best[0]\n",
    "            best_rf[1] = rf_best\n",
    "            \n",
    "    return (best_lr[1][2], best_svm[1][2], best_rf[1][2], (best_lr[1][1], best_svm[1][1], best_rf[1][1]))"
   ]
  },
  {
   "cell_type": "code",
   "execution_count": 4,
   "metadata": {},
   "outputs": [],
   "source": [
    "def return_confusion(classifiers, X_train, X_test, y_train, y_test):\n",
    "    confmats = []\n",
    "    for classifier in classifiers:\n",
    "        classifier.fit(X_train, y_train)\n",
    "        y_pred = classifier.predict(X_test)\n",
    "        confmat = confusion_matrix(y_true=y_test, y_pred=y_pred)\n",
    "        confmats.append(confmat)\n",
    "    return confmats\n",
    "\n",
    "def plot_confusion(classifiers, X_train, X_test, y_train, y_test, title, save=False):\n",
    "    clf_names = [\"LR\", \"SVM\", \"RF\", \"BAGGING\"]\n",
    "    confmats = return_confusion(classifiers, X_train, X_test, y_train, y_test)\n",
    "    plt.figure(figsize=(6,6))\n",
    "    for ax_num, cnfm, clf_name in zip([221,222,223,224], confmats, clf_names):\n",
    "        ax = plt.subplot(ax_num)\n",
    "        ax.title.set_text(clf_name)\n",
    "\n",
    "        ax.matshow(cnfm, cmap=plt.cm.Blues, alpha=0.3)\n",
    "        for i in range(cnfm.shape[0]):\n",
    "            for j in range(cnfm.shape[1]):\n",
    "                ax.text(x=j, y=i, s=cnfm[i, j], va='center', ha='center')\n",
    "        \n",
    "        plt.xlabel('predicted label')\n",
    "        plt.ylabel('true label')\n",
    "\n",
    "    plt.suptitle(title, y=1.05, fontsize=16)\n",
    "    plt.tight_layout()\n",
    "    if save:\n",
    "        plt.savefig(save, dpi=300, bbox_inches='tight')\n",
    "    plt.show()"
   ]
  },
  {
   "cell_type": "markdown",
   "metadata": {},
   "source": [
    "# Importing Data"
   ]
  },
  {
   "cell_type": "code",
   "execution_count": 5,
   "metadata": {},
   "outputs": [],
   "source": [
    "data = pd.read_excel(\"NAFLD with FIB4 and NFS Scores.xlsx\").drop(294)\n",
    "features_df = pd.concat([data.iloc[:,1:-13], data[['FIB-4', 'NFS']]], axis=1).drop(['Height', 'Weight'], axis=1)\n",
    "targets_df = data[['Significant Fibrosis (No=0, Yes=1) (If Fibrosis 2 and above, there is Significant Fibrosis)',\n",
    "                         'Advanced Fibrosis (No=0, Yes=1) (If Fibrosis is 3 and above, there is Advanced Fibrosis)']]"
   ]
  },
  {
   "cell_type": "code",
   "execution_count": 7,
   "metadata": {},
   "outputs": [],
   "source": [
    "baseline2 = features_df.dropna(axis=1) # shape: (604, 18)"
   ]
  },
  {
   "cell_type": "code",
   "execution_count": 8,
   "metadata": {
    "scrolled": true
   },
   "outputs": [
    {
     "data": {
      "text/plain": [
       "Index(['Age', 'Gender (Female=1, Male=2)', 'Body Mass Index',\n",
       "       'Systolic Blood Pressure', 'Diastolic Blood Pressure',\n",
       "       'Diyabetes Mellitus (No=0, Yes=1)', 'Hypertension (No=0, Yes=1)',\n",
       "       'Hyperlipidemia (No=0, Yes=1)', 'Metabolic syndrome (No=0, Yes=1)',\n",
       "       'AST', 'ALT', 'Albumin', 'Total Cholesterol', 'Leukocyte', 'Hemoglobin',\n",
       "       'Trombosit', 'FIB-4', 'NFS'],\n",
       "      dtype='object')"
      ]
     },
     "execution_count": 8,
     "metadata": {},
     "output_type": "execute_result"
    }
   ],
   "source": [
    "baseline2.columns"
   ]
  },
  {
   "cell_type": "markdown",
   "metadata": {},
   "source": [
    "## Baseline (No missed values)"
   ]
  },
  {
   "cell_type": "code",
   "execution_count": 9,
   "metadata": {},
   "outputs": [],
   "source": [
    "models_4_SF = best_estimator(baseline2.values, targets_df.iloc[:,0].values)\n",
    "models_4_AF = best_estimator(baseline2.values, targets_df.iloc[:,1].values)"
   ]
  },
  {
   "cell_type": "code",
   "execution_count": 11,
   "metadata": {},
   "outputs": [
    {
     "data": {
      "text/plain": [
       "({'clf__C': 0.001, 'clf__penalty': 'l2'},\n",
       " {'clf__C': 100.0, 'clf__kernel': 'rbf'},\n",
       " {'bootstrap': True,\n",
       "  'max_depth': 80,\n",
       "  'max_features': 3,\n",
       "  'min_samples_leaf': 3,\n",
       "  'min_samples_split': 8,\n",
       "  'n_estimators': 200})"
      ]
     },
     "execution_count": 11,
     "metadata": {},
     "output_type": "execute_result"
    }
   ],
   "source": [
    "models_4_AF[3] # best parameters of the models"
   ]
  },
  {
   "cell_type": "code",
   "execution_count": 12,
   "metadata": {},
   "outputs": [],
   "source": [
    "lr_best_sf, svm_best_sf, rf_best_sf = models_4_SF[0], models_4_SF[1], models_4_SF[2]\n",
    "lr_best_af, svm_best_af, rf_best_af = models_4_AF[0], models_4_AF[1], models_4_AF[2]"
   ]
  },
  {
   "cell_type": "code",
   "execution_count": 13,
   "metadata": {},
   "outputs": [],
   "source": [
    "bagging = BaggingClassifier(DecisionTreeClassifier(), n_jobs=-1, random_state=1)\n",
    "\n",
    "sf_models = [lr_best_sf, svm_best_sf, rf_best_sf, bagging]\n",
    "af_models = [lr_best_af, svm_best_af, rf_best_af, bagging]"
   ]
  },
  {
   "cell_type": "code",
   "execution_count": 14,
   "metadata": {},
   "outputs": [],
   "source": [
    "comparison_table = {}\n",
    "kf = StratifiedKFold(10, random_state=1)\n",
    "X = baseline2.values\n",
    "\n",
    "for idx, models in enumerate([sf_models, af_models]):\n",
    "    if idx == 0: target = \"SF\"\n",
    "    else: target = \"AF\"\n",
    "    comparison_table.setdefault(target, [])\n",
    "    for mdl in models:\n",
    "        avrg = []\n",
    "        y = targets_df.iloc[:,idx].values\n",
    "        for train_index, test_index in kf.split(X, y):\n",
    "            X_train, X_test = X[train_index], X[test_index]\n",
    "            y_train, y_test = y[train_index], y[test_index]\n",
    "            avrg.append(collect_scores(mdl, X_train, X_test, y_train, y_test))\n",
    "        avrg = pd.DataFrame(np.array(avrg)).replace({np.inf:np.nan}).values\n",
    "        avrg_list = np.round(np.nanmean(avrg, axis=0, dtype=np.float64),3).tolist()\n",
    "        avrg_list[0], avrg_list[1] = round(avrg_list[0]*100), round(avrg_list[1]*100)\n",
    "        avrg_list[2], avrg_list[3] = avrg_list[2], avrg_list[3]\n",
    "        comparison_table[target].append(avrg_list)"
   ]
  },
  {
   "cell_type": "code",
   "execution_count": 15,
   "metadata": {},
   "outputs": [
    {
     "data": {
      "text/html": [
       "<div>\n",
       "<style scoped>\n",
       "    .dataframe tbody tr th:only-of-type {\n",
       "        vertical-align: middle;\n",
       "    }\n",
       "\n",
       "    .dataframe tbody tr th {\n",
       "        vertical-align: top;\n",
       "    }\n",
       "\n",
       "    .dataframe thead th {\n",
       "        text-align: right;\n",
       "    }\n",
       "</style>\n",
       "<table border=\"1\" class=\"dataframe\">\n",
       "  <thead>\n",
       "    <tr style=\"text-align: right;\">\n",
       "      <th></th>\n",
       "      <th></th>\n",
       "      <th>Sensitivity (%)</th>\n",
       "      <th>Specificity (%)</th>\n",
       "      <th>FN</th>\n",
       "      <th>FP</th>\n",
       "      <th>PPV</th>\n",
       "      <th>NPV</th>\n",
       "      <th>PLR</th>\n",
       "      <th>NLR</th>\n",
       "      <th>AUC</th>\n",
       "    </tr>\n",
       "  </thead>\n",
       "  <tbody>\n",
       "    <tr>\n",
       "      <td>SIGNIFICANT</td>\n",
       "      <td>LR</td>\n",
       "      <td>60.0</td>\n",
       "      <td>77.0</td>\n",
       "      <td>0.146</td>\n",
       "      <td>0.148</td>\n",
       "      <td>0.593</td>\n",
       "      <td>0.774</td>\n",
       "      <td>2.722</td>\n",
       "      <td>0.527</td>\n",
       "      <td>0.709</td>\n",
       "    </tr>\n",
       "    <tr>\n",
       "      <td>FIBROSIS</td>\n",
       "      <td>SVM</td>\n",
       "      <td>50.0</td>\n",
       "      <td>75.0</td>\n",
       "      <td>0.182</td>\n",
       "      <td>0.157</td>\n",
       "      <td>0.541</td>\n",
       "      <td>0.726</td>\n",
       "      <td>2.279</td>\n",
       "      <td>0.677</td>\n",
       "      <td>0.674</td>\n",
       "    </tr>\n",
       "    <tr>\n",
       "      <td rowspan=\"2\" valign=\"top\"></td>\n",
       "      <td>RandomForest</td>\n",
       "      <td>45.0</td>\n",
       "      <td>87.0</td>\n",
       "      <td>0.200</td>\n",
       "      <td>0.085</td>\n",
       "      <td>0.663</td>\n",
       "      <td>0.735</td>\n",
       "      <td>4.616</td>\n",
       "      <td>0.646</td>\n",
       "      <td>0.752</td>\n",
       "    </tr>\n",
       "    <tr>\n",
       "      <td>Bagging</td>\n",
       "      <td>41.0</td>\n",
       "      <td>81.0</td>\n",
       "      <td>0.212</td>\n",
       "      <td>0.123</td>\n",
       "      <td>0.548</td>\n",
       "      <td>0.710</td>\n",
       "      <td>2.446</td>\n",
       "      <td>0.732</td>\n",
       "      <td>0.696</td>\n",
       "    </tr>\n",
       "  </tbody>\n",
       "</table>\n",
       "</div>"
      ],
      "text/plain": [
       "                          Sensitivity (%)  Specificity (%)     FN     FP  \\\n",
       "SIGNIFICANT LR                       60.0             77.0  0.146  0.148   \n",
       "FIBROSIS    SVM                      50.0             75.0  0.182  0.157   \n",
       "            RandomForest             45.0             87.0  0.200  0.085   \n",
       "            Bagging                  41.0             81.0  0.212  0.123   \n",
       "\n",
       "                            PPV    NPV    PLR    NLR    AUC  \n",
       "SIGNIFICANT LR            0.593  0.774  2.722  0.527  0.709  \n",
       "FIBROSIS    SVM           0.541  0.726  2.279  0.677  0.674  \n",
       "            RandomForest  0.663  0.735  4.616  0.646  0.752  \n",
       "            Bagging       0.548  0.710  2.446  0.732  0.696  "
      ]
     },
     "execution_count": 15,
     "metadata": {},
     "output_type": "execute_result"
    }
   ],
   "source": [
    "columns = ['Sensitivity (%)', 'Specificity (%)', 'FN', 'FP', 'PPV', 'NPV', 'PLR', 'NLR', 'AUC']\n",
    "index = ['LR', 'SVM', 'RandomForest', 'Bagging']\n",
    "index1 = pd.MultiIndex.from_tuples([('SIGNIFICANT', 'LR'), ('FIBROSIS', 'SVM'), ('','RandomForest'), ('', 'Bagging')])\n",
    "sf_table_df = pd.DataFrame(np.array(comparison_table['SF']), index=index1, columns=columns)\n",
    "sf_table_df"
   ]
  },
  {
   "cell_type": "code",
   "execution_count": 16,
   "metadata": {
    "scrolled": false
   },
   "outputs": [
    {
     "data": {
      "text/html": [
       "<div>\n",
       "<style scoped>\n",
       "    .dataframe tbody tr th:only-of-type {\n",
       "        vertical-align: middle;\n",
       "    }\n",
       "\n",
       "    .dataframe tbody tr th {\n",
       "        vertical-align: top;\n",
       "    }\n",
       "\n",
       "    .dataframe thead th {\n",
       "        text-align: right;\n",
       "    }\n",
       "</style>\n",
       "<table border=\"1\" class=\"dataframe\">\n",
       "  <thead>\n",
       "    <tr style=\"text-align: right;\">\n",
       "      <th></th>\n",
       "      <th></th>\n",
       "      <th>Sensitivity (%)</th>\n",
       "      <th>Specificity (%)</th>\n",
       "      <th>FN</th>\n",
       "      <th>FP</th>\n",
       "      <th>PPV</th>\n",
       "      <th>NPV</th>\n",
       "      <th>PLR</th>\n",
       "      <th>NLR</th>\n",
       "      <th>AUC</th>\n",
       "    </tr>\n",
       "  </thead>\n",
       "  <tbody>\n",
       "    <tr>\n",
       "      <td>ADVANCED</td>\n",
       "      <td>LR</td>\n",
       "      <td>55.0</td>\n",
       "      <td>85.0</td>\n",
       "      <td>0.081</td>\n",
       "      <td>0.123</td>\n",
       "      <td>0.455</td>\n",
       "      <td>0.897</td>\n",
       "      <td>4.083</td>\n",
       "      <td>0.527</td>\n",
       "      <td>0.783</td>\n",
       "    </tr>\n",
       "    <tr>\n",
       "      <td>FIBROSIS</td>\n",
       "      <td>SVM</td>\n",
       "      <td>39.0</td>\n",
       "      <td>91.0</td>\n",
       "      <td>0.109</td>\n",
       "      <td>0.075</td>\n",
       "      <td>0.521</td>\n",
       "      <td>0.872</td>\n",
       "      <td>4.593</td>\n",
       "      <td>0.673</td>\n",
       "      <td>0.729</td>\n",
       "    </tr>\n",
       "    <tr>\n",
       "      <td rowspan=\"2\" valign=\"top\"></td>\n",
       "      <td>RandomForest</td>\n",
       "      <td>20.0</td>\n",
       "      <td>97.0</td>\n",
       "      <td>0.144</td>\n",
       "      <td>0.027</td>\n",
       "      <td>0.557</td>\n",
       "      <td>0.847</td>\n",
       "      <td>7.162</td>\n",
       "      <td>0.833</td>\n",
       "      <td>0.790</td>\n",
       "    </tr>\n",
       "    <tr>\n",
       "      <td>Bagging</td>\n",
       "      <td>23.0</td>\n",
       "      <td>94.0</td>\n",
       "      <td>0.137</td>\n",
       "      <td>0.046</td>\n",
       "      <td>0.529</td>\n",
       "      <td>0.849</td>\n",
       "      <td>5.487</td>\n",
       "      <td>0.818</td>\n",
       "      <td>0.739</td>\n",
       "    </tr>\n",
       "  </tbody>\n",
       "</table>\n",
       "</div>"
      ],
      "text/plain": [
       "                       Sensitivity (%)  Specificity (%)     FN     FP    PPV  \\\n",
       "ADVANCED LR                       55.0             85.0  0.081  0.123  0.455   \n",
       "FIBROSIS SVM                      39.0             91.0  0.109  0.075  0.521   \n",
       "         RandomForest             20.0             97.0  0.144  0.027  0.557   \n",
       "         Bagging                  23.0             94.0  0.137  0.046  0.529   \n",
       "\n",
       "                         NPV    PLR    NLR    AUC  \n",
       "ADVANCED LR            0.897  4.083  0.527  0.783  \n",
       "FIBROSIS SVM           0.872  4.593  0.673  0.729  \n",
       "         RandomForest  0.847  7.162  0.833  0.790  \n",
       "         Bagging       0.849  5.487  0.818  0.739  "
      ]
     },
     "execution_count": 16,
     "metadata": {},
     "output_type": "execute_result"
    }
   ],
   "source": [
    "index2 = pd.MultiIndex.from_tuples([('ADVANCED', 'LR'), ('FIBROSIS', 'SVM'), ('', 'RandomForest'), ('', 'Bagging')])\n",
    "af_table_df = pd.DataFrame(np.array(comparison_table['AF']), index=index2, columns=columns)\n",
    "af_table_df"
   ]
  },
  {
   "cell_type": "markdown",
   "metadata": {},
   "source": [
    "### Confusion Matrices"
   ]
  },
  {
   "cell_type": "code",
   "execution_count": 17,
   "metadata": {},
   "outputs": [],
   "source": [
    "X_train_sf_0, X_test_sf_0, y_train_sf_0, y_test_sf_0 = train_test_split(\n",
    "    baseline2.values, targets_df.iloc[:,0].values, test_size=0.2, random_state=1, stratify= y)\n",
    "\n",
    "X_train_af_0, X_test_af_0, y_train_af_0, y_test_af_0 = train_test_split(\n",
    "    baseline2.values, targets_df.iloc[:,1].values, test_size=0.2, random_state=1, stratify= y)"
   ]
  },
  {
   "cell_type": "code",
   "execution_count": 18,
   "metadata": {},
   "outputs": [
    {
     "data": {
      "image/png": "[encoded data removed]",
      "text/plain": [
       "<Figure size 432x432 with 4 Axes>"
      ]
     },
     "metadata": {
      "needs_background": "light"
     },
     "output_type": "display_data"
    }
   ],
   "source": [
    "sf_title_0 = \"Significant Fibrosis Without Missed Data\"\n",
    "plot_confusion(sf_models, X_train_sf_0, X_test_sf_0, y_train_sf_0, y_test_sf_0, sf_title_0, save=False)"
   ]
  },
  {
   "cell_type": "code",
   "execution_count": 19,
   "metadata": {},
   "outputs": [
    {
     "data": {
      "image/png": "[encoded data removed]",
      "text/plain": [
       "<Figure size 432x432 with 4 Axes>"
      ]
     },
     "metadata": {
      "needs_background": "light"
     },
     "output_type": "display_data"
    }
   ],
   "source": [
    "af_title_0 = \"Advanced Fibrosis Without Missed Data\"\n",
    "plot_confusion(af_models, X_train_af_0, X_test_af_0, y_train_af_0, y_test_af_0, af_title_0, save=False)"
   ]
  },
  {
   "cell_type": "markdown",
   "metadata": {},
   "source": [
    "## 25% Threshold"
   ]
  },
  {
   "cell_type": "code",
   "execution_count": 20,
   "metadata": {},
   "outputs": [],
   "source": [
    "missing_data_percentages = features_df.isnull().mean()\n",
    "threshold_25_df = features_df.iloc[:, missing_data_percentages.values < 0.25]\n",
    "knn_25 = fast_knn(threshold_25_df.values, k=30) # shape: (604, 37)"
   ]
  },
  {
   "cell_type": "code",
   "execution_count": 21,
   "metadata": {},
   "outputs": [],
   "source": [
    "models_25_SF = best_estimator(knn_25, targets_df.iloc[:,0].values)\n",
    "models_25_AF = best_estimator(knn_25, targets_df.iloc[:,1].values)"
   ]
  },
  {
   "cell_type": "code",
   "execution_count": 23,
   "metadata": {},
   "outputs": [
    {
     "data": {
      "text/plain": [
       "({'clf__C': 0.001, 'clf__penalty': 'l2'},\n",
       " {'clf__C': 10.0, 'clf__kernel': 'rbf'},\n",
       " {'bootstrap': True,\n",
       "  'max_depth': 80,\n",
       "  'max_features': 3,\n",
       "  'min_samples_leaf': 3,\n",
       "  'min_samples_split': 10,\n",
       "  'n_estimators': 1000})"
      ]
     },
     "execution_count": 23,
     "metadata": {},
     "output_type": "execute_result"
    }
   ],
   "source": [
    "models_25_AF[3] # best parameters of the models"
   ]
  },
  {
   "cell_type": "code",
   "execution_count": 24,
   "metadata": {},
   "outputs": [],
   "source": [
    "lr_best_sf_25, svm_best_sf_25, rf_best_sf_25 = models_25_SF[0], models_25_SF[1], models_25_SF[2]\n",
    "lr_best_af_25, svm_best_af_25, rf_best_af_25 = models_25_AF[0], models_25_AF[1], models_25_AF[2]"
   ]
  },
  {
   "cell_type": "code",
   "execution_count": 25,
   "metadata": {},
   "outputs": [],
   "source": [
    "bagging = BaggingClassifier(DecisionTreeClassifier(), n_jobs=-1, random_state=1)\n",
    "\n",
    "sf_25_models = [lr_best_sf_25, svm_best_sf_25, rf_best_sf_25, bagging]\n",
    "af_25_models = [lr_best_af_25, svm_best_af_25, rf_best_af_25, bagging]"
   ]
  },
  {
   "cell_type": "code",
   "execution_count": 26,
   "metadata": {
    "scrolled": true
   },
   "outputs": [],
   "source": [
    "comparison_table_25 = {}\n",
    "kf = StratifiedKFold(10, random_state=1)\n",
    "X = knn_25\n",
    "\n",
    "for idx, models in enumerate([sf_25_models, af_25_models]):\n",
    "    if idx == 0: target = \"SF\"\n",
    "    else: target = \"AF\"\n",
    "    comparison_table_25.setdefault(target, [])\n",
    "    for mdl in models:\n",
    "        avrg = []\n",
    "        y = targets_df.iloc[:,idx].values\n",
    "        for train_index, test_index in kf.split(X, y):\n",
    "            X_train, X_test = X[train_index], X[test_index]\n",
    "            y_train, y_test = y[train_index], y[test_index]\n",
    "            avrg.append(collect_scores(mdl, X_train, X_test, y_train, y_test))\n",
    "        avrg = pd.DataFrame(np.array(avrg)).replace({np.inf:np.nan}).values\n",
    "        avrg_list = np.round(np.nanmean(avrg, axis=0, dtype=np.float64),3).tolist()\n",
    "        avrg_list[0], avrg_list[1] = round(avrg_list[0]*100), round(avrg_list[1]*100)\n",
    "        avrg_list[2], avrg_list[3] = avrg_list[2], avrg_list[3]\n",
    "        comparison_table_25[target].append(avrg_list)"
   ]
  },
  {
   "cell_type": "code",
   "execution_count": 27,
   "metadata": {},
   "outputs": [
    {
     "data": {
      "text/html": [
       "<div>\n",
       "<style scoped>\n",
       "    .dataframe tbody tr th:only-of-type {\n",
       "        vertical-align: middle;\n",
       "    }\n",
       "\n",
       "    .dataframe tbody tr th {\n",
       "        vertical-align: top;\n",
       "    }\n",
       "\n",
       "    .dataframe thead th {\n",
       "        text-align: right;\n",
       "    }\n",
       "</style>\n",
       "<table border=\"1\" class=\"dataframe\">\n",
       "  <thead>\n",
       "    <tr style=\"text-align: right;\">\n",
       "      <th></th>\n",
       "      <th></th>\n",
       "      <th>Sensitivity (%)</th>\n",
       "      <th>Specificity (%)</th>\n",
       "      <th>FN</th>\n",
       "      <th>FP</th>\n",
       "      <th>PPV</th>\n",
       "      <th>NPV</th>\n",
       "      <th>PLR</th>\n",
       "      <th>NLR</th>\n",
       "      <th>AUC</th>\n",
       "    </tr>\n",
       "  </thead>\n",
       "  <tbody>\n",
       "    <tr>\n",
       "      <td>SIGNIFICANT</td>\n",
       "      <td>LR</td>\n",
       "      <td>51.0</td>\n",
       "      <td>81.0</td>\n",
       "      <td>0.177</td>\n",
       "      <td>0.123</td>\n",
       "      <td>0.597</td>\n",
       "      <td>0.746</td>\n",
       "      <td>3.765</td>\n",
       "      <td>0.619</td>\n",
       "      <td>0.721</td>\n",
       "    </tr>\n",
       "    <tr>\n",
       "      <td>FIBROSIS</td>\n",
       "      <td>SVM</td>\n",
       "      <td>45.0</td>\n",
       "      <td>82.0</td>\n",
       "      <td>0.198</td>\n",
       "      <td>0.118</td>\n",
       "      <td>0.594</td>\n",
       "      <td>0.725</td>\n",
       "      <td>3.988</td>\n",
       "      <td>0.691</td>\n",
       "      <td>0.710</td>\n",
       "    </tr>\n",
       "    <tr>\n",
       "      <td rowspan=\"2\" valign=\"top\"></td>\n",
       "      <td>RandomForest</td>\n",
       "      <td>42.0</td>\n",
       "      <td>87.0</td>\n",
       "      <td>0.208</td>\n",
       "      <td>0.085</td>\n",
       "      <td>0.645</td>\n",
       "      <td>0.728</td>\n",
       "      <td>4.136</td>\n",
       "      <td>0.670</td>\n",
       "      <td>0.737</td>\n",
       "    </tr>\n",
       "    <tr>\n",
       "      <td>Bagging</td>\n",
       "      <td>38.0</td>\n",
       "      <td>83.0</td>\n",
       "      <td>0.223</td>\n",
       "      <td>0.109</td>\n",
       "      <td>0.563</td>\n",
       "      <td>0.704</td>\n",
       "      <td>2.634</td>\n",
       "      <td>0.750</td>\n",
       "      <td>0.683</td>\n",
       "    </tr>\n",
       "  </tbody>\n",
       "</table>\n",
       "</div>"
      ],
      "text/plain": [
       "                          Sensitivity (%)  Specificity (%)     FN     FP  \\\n",
       "SIGNIFICANT LR                       51.0             81.0  0.177  0.123   \n",
       "FIBROSIS    SVM                      45.0             82.0  0.198  0.118   \n",
       "            RandomForest             42.0             87.0  0.208  0.085   \n",
       "            Bagging                  38.0             83.0  0.223  0.109   \n",
       "\n",
       "                            PPV    NPV    PLR    NLR    AUC  \n",
       "SIGNIFICANT LR            0.597  0.746  3.765  0.619  0.721  \n",
       "FIBROSIS    SVM           0.594  0.725  3.988  0.691  0.710  \n",
       "            RandomForest  0.645  0.728  4.136  0.670  0.737  \n",
       "            Bagging       0.563  0.704  2.634  0.750  0.683  "
      ]
     },
     "execution_count": 27,
     "metadata": {},
     "output_type": "execute_result"
    }
   ],
   "source": [
    "index3 = pd.MultiIndex.from_tuples([('SIGNIFICANT', 'LR'), ('FIBROSIS', 'SVM'), ('', 'RandomForest'), ('', 'Bagging')])\n",
    "sf_table_25_df = pd.DataFrame(np.array(comparison_table_25['SF']), index=index3, columns=columns)\n",
    "sf_table_25_df"
   ]
  },
  {
   "cell_type": "code",
   "execution_count": 28,
   "metadata": {
    "scrolled": true
   },
   "outputs": [
    {
     "data": {
      "text/html": [
       "<div>\n",
       "<style scoped>\n",
       "    .dataframe tbody tr th:only-of-type {\n",
       "        vertical-align: middle;\n",
       "    }\n",
       "\n",
       "    .dataframe tbody tr th {\n",
       "        vertical-align: top;\n",
       "    }\n",
       "\n",
       "    .dataframe thead th {\n",
       "        text-align: right;\n",
       "    }\n",
       "</style>\n",
       "<table border=\"1\" class=\"dataframe\">\n",
       "  <thead>\n",
       "    <tr style=\"text-align: right;\">\n",
       "      <th></th>\n",
       "      <th></th>\n",
       "      <th>Sensitivity (%)</th>\n",
       "      <th>Specificity (%)</th>\n",
       "      <th>FN</th>\n",
       "      <th>FP</th>\n",
       "      <th>PPV</th>\n",
       "      <th>NPV</th>\n",
       "      <th>PLR</th>\n",
       "      <th>NLR</th>\n",
       "      <th>AUC</th>\n",
       "    </tr>\n",
       "  </thead>\n",
       "  <tbody>\n",
       "    <tr>\n",
       "      <td>ADVANCED</td>\n",
       "      <td>LR</td>\n",
       "      <td>62.0</td>\n",
       "      <td>84.0</td>\n",
       "      <td>0.068</td>\n",
       "      <td>0.131</td>\n",
       "      <td>0.470</td>\n",
       "      <td>0.912</td>\n",
       "      <td>4.318</td>\n",
       "      <td>0.449</td>\n",
       "      <td>0.795</td>\n",
       "    </tr>\n",
       "    <tr>\n",
       "      <td>FIBROSIS</td>\n",
       "      <td>SVM</td>\n",
       "      <td>32.0</td>\n",
       "      <td>91.0</td>\n",
       "      <td>0.122</td>\n",
       "      <td>0.072</td>\n",
       "      <td>0.420</td>\n",
       "      <td>0.862</td>\n",
       "      <td>4.474</td>\n",
       "      <td>0.738</td>\n",
       "      <td>0.748</td>\n",
       "    </tr>\n",
       "    <tr>\n",
       "      <td rowspan=\"2\" valign=\"top\"></td>\n",
       "      <td>RandomForest</td>\n",
       "      <td>12.0</td>\n",
       "      <td>98.0</td>\n",
       "      <td>0.157</td>\n",
       "      <td>0.015</td>\n",
       "      <td>0.615</td>\n",
       "      <td>0.837</td>\n",
       "      <td>6.735</td>\n",
       "      <td>0.893</td>\n",
       "      <td>0.801</td>\n",
       "    </tr>\n",
       "    <tr>\n",
       "      <td>Bagging</td>\n",
       "      <td>26.0</td>\n",
       "      <td>96.0</td>\n",
       "      <td>0.132</td>\n",
       "      <td>0.032</td>\n",
       "      <td>0.678</td>\n",
       "      <td>0.858</td>\n",
       "      <td>4.793</td>\n",
       "      <td>0.765</td>\n",
       "      <td>0.724</td>\n",
       "    </tr>\n",
       "  </tbody>\n",
       "</table>\n",
       "</div>"
      ],
      "text/plain": [
       "                       Sensitivity (%)  Specificity (%)     FN     FP    PPV  \\\n",
       "ADVANCED LR                       62.0             84.0  0.068  0.131  0.470   \n",
       "FIBROSIS SVM                      32.0             91.0  0.122  0.072  0.420   \n",
       "         RandomForest             12.0             98.0  0.157  0.015  0.615   \n",
       "         Bagging                  26.0             96.0  0.132  0.032  0.678   \n",
       "\n",
       "                         NPV    PLR    NLR    AUC  \n",
       "ADVANCED LR            0.912  4.318  0.449  0.795  \n",
       "FIBROSIS SVM           0.862  4.474  0.738  0.748  \n",
       "         RandomForest  0.837  6.735  0.893  0.801  \n",
       "         Bagging       0.858  4.793  0.765  0.724  "
      ]
     },
     "execution_count": 28,
     "metadata": {},
     "output_type": "execute_result"
    }
   ],
   "source": [
    "index4 = pd.MultiIndex.from_tuples([('ADVANCED', 'LR'), ('FIBROSIS', 'SVM'), ('', 'RandomForest'), ('', 'Bagging')])\n",
    "af_table_25_df = pd.DataFrame(np.array(comparison_table_25['AF']), index=index4, columns=columns)\n",
    "af_table_25_df"
   ]
  },
  {
   "cell_type": "markdown",
   "metadata": {},
   "source": [
    "### Confusion Matrices"
   ]
  },
  {
   "cell_type": "code",
   "execution_count": 29,
   "metadata": {},
   "outputs": [],
   "source": [
    "X_train_sf_25, X_test_sf_25, y_train_sf_25, y_test_sf_25 = train_test_split(\n",
    "    knn_25, targets_df.iloc[:,0].values, test_size=0.2, random_state=1, stratify=y)\n",
    "\n",
    "X_train_af_25, X_test_af_25, y_train_af_25, y_test_af_25 = train_test_split(\n",
    "    knn_25, targets_df.iloc[:,1].values, test_size=0.2, random_state=1, stratify=y)"
   ]
  },
  {
   "cell_type": "code",
   "execution_count": 30,
   "metadata": {},
   "outputs": [
    {
     "data": {
      "image/png": "[encoded data removed]",
      "text/plain": [
       "<Figure size 432x432 with 4 Axes>"
      ]
     },
     "metadata": {
      "needs_background": "light"
     },
     "output_type": "display_data"
    }
   ],
   "source": [
    "sf_title_25 = \"Significant Fibrosis With 25% Threshold\"\n",
    "plot_confusion(sf_25_models, X_train_sf_25, X_test_sf_25, y_train_sf_25, y_test_sf_25, sf_title_25, save=False)"
   ]
  },
  {
   "cell_type": "code",
   "execution_count": 31,
   "metadata": {},
   "outputs": [
    {
     "data": {
      "image/png": "[encoded data removed]",
      "text/plain": [
       "<Figure size 432x432 with 4 Axes>"
      ]
     },
     "metadata": {
      "needs_background": "light"
     },
     "output_type": "display_data"
    }
   ],
   "source": [
    "af_title_25 = \"Advanced Fibrosis With 25% Threshold\"\n",
    "plot_confusion(af_25_models, X_train_af_25, X_test_af_25, y_train_af_25, y_test_af_25, af_title_25, save=False)"
   ]
  },
  {
   "cell_type": "markdown",
   "metadata": {},
   "source": [
    "## Keeping Models In The Storage"
   ]
  },
  {
   "cell_type": "code",
   "execution_count": 32,
   "metadata": {},
   "outputs": [],
   "source": [
    "keep_models = {'0':{'SF':models_4_SF, 'AF':models_4_AF},\n",
    "               '25':{'SF':models_25_SF, 'AF':models_25_AF}}\n",
    "with open('best_models_with_additional_features2.db','wb') as models:\n",
    "    pickle.dump(keep_models, models)"
   ]
  }
 ],
 "metadata": {
  "kernelspec": {
   "display_name": "Python 3",
   "language": "python",
   "name": "python3"
  },
  "language_info": {
   "codemirror_mode": {
    "name": "ipython",
    "version": 3
   },
   "file_extension": ".py",
   "mimetype": "text/x-python",
   "name": "python",
   "nbconvert_exporter": "python",
   "pygments_lexer": "ipython3",
   "version": "3.7.3"
  }
 },
 "nbformat": 4,
 "nbformat_minor": 2
}
