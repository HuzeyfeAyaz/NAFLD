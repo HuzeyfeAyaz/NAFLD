{
 "cells": [
  {
   "cell_type": "markdown",
   "metadata": {},
   "source": [
    "# Comparison Tables By Metrice Scores"
   ]
  },
  {
   "cell_type": "code",
   "execution_count": 1,
   "metadata": {},
   "outputs": [],
   "source": [
    "import numpy as np\n",
    "import pandas as pd\n",
    "import matplotlib.pyplot as plt\n",
    "from sklearn.model_selection import train_test_split\n",
    "from sklearn.preprocessing import StandardScaler\n",
    "from sklearn.model_selection import GridSearchCV\n",
    "from sklearn.pipeline import Pipeline\n",
    "import matplotlib.patches as mpatches\n",
    "from sklearn.decomposition import PCA\n",
    "from sklearn.feature_selection import f_classif\n",
    "from impyute.imputation.cs import fast_knn\n",
    "import pickle\n",
    "\n",
    "# Scores\n",
    "from sklearn.metrics import confusion_matrix\n",
    "from sklearn.metrics import roc_curve\n",
    "from sklearn.metrics import roc_auc_score\n",
    "from sklearn.model_selection import StratifiedKFold\n",
    "from sklearn.metrics import f1_score\n",
    "from sklearn.metrics import make_scorer\n",
    "\n",
    "# Classifiers\n",
    "from sklearn.linear_model import LogisticRegression\n",
    "from sklearn.svm import SVC\n",
    "from sklearn.neighbors import KNeighborsClassifier\n",
    "from sklearn.tree import DecisionTreeClassifier\n",
    "from sklearn.ensemble import RandomForestClassifier\n",
    "\n",
    "# Ensemble models\n",
    "from sklearn.ensemble import RandomForestClassifier\n",
    "from sklearn.ensemble import AdaBoostClassifier\n",
    "from sklearn.ensemble import BaggingClassifier\n",
    "from sklearn.ensemble import VotingClassifier\n",
    "\n",
    "# Ignoring Errors\n",
    "import warnings\n",
    "warnings.simplefilter('ignore')"
   ]
  },
  {
   "cell_type": "code",
   "execution_count": 2,
   "metadata": {},
   "outputs": [],
   "source": [
    "param_range = [0.001, 0.01, 0.1, 1.0, 10.0, 100.0]\n",
    "scoring = make_scorer(roc_auc_score)\n",
    "def gsearch(classifier, X_train, y_train, param_grid, scoring=scoring):\n",
    "    gs = GridSearchCV(estimator=classifier,\n",
    "                      param_grid=param_grid, \n",
    "                      scoring=scoring,\n",
    "                      cv=5,\n",
    "                      n_jobs=-1)\n",
    "    gs = gs.fit(X_train, y_train)\n",
    "    return (gs.best_score_, gs.best_params_, gs.best_estimator_)\n",
    "\n",
    "def collect_scores(classifier, X_train, X_test, y_train, y_test):\n",
    "    classifier.fit(X_train, y_train)\n",
    "    y_pred = classifier.predict(X_test)\n",
    "    y_prob = classifier.predict_proba(X_test)[:,1]\n",
    "    auc = roc_auc_score(y_test, y_prob)\n",
    "    tn, fp, fn, tp = confusion_matrix(y_true=y_test, y_pred=y_pred).ravel()\n",
    "    \n",
    "    tpr = tp/(tp + fn)\n",
    "    tnr = tn/(fp + tn)\n",
    "    ppv = tp/(tp + fp)\n",
    "    npv = tn/(tn + fn)\n",
    "    plr = tpr/(1 - tnr)\n",
    "    nlr = (1 - tpr)/tnr\n",
    "    y_test_size = y_test.shape[0]\n",
    "    fn = fn/y_test_size\n",
    "    fp = fp/y_test_size\n",
    "    return [tpr, tnr, fn, fp, ppv, npv, plr, nlr, auc]"
   ]
  },
  {
   "cell_type": "code",
   "execution_count": 3,
   "metadata": {},
   "outputs": [],
   "source": [
    "def best_estimator(X, y):\n",
    "    best_lr, best_svm, best_rf = [0, 0], [0, 0], [0, 0]\n",
    "\n",
    "    pipe_lr = Pipeline([['sc', StandardScaler()], ['clf', LogisticRegression(random_state=1)]])\n",
    "    pipe_svm = Pipeline([['sc', StandardScaler()], ['clf', SVC(probability=True, random_state=1)]])\n",
    "    rf = RandomForestClassifier(random_state=1, n_jobs=-1)\n",
    "\n",
    "    lr_grid = [{'clf__C': param_range,\n",
    "            'clf__penalty': ['l1','l2']}]\n",
    "\n",
    "    svm_grid = [{'clf__C': param_range,\n",
    "                'clf__kernel': ['rbf','sigmoid']}]\n",
    "    \n",
    "    rf_grid = [{\n",
    "    'bootstrap': [True],\n",
    "    'max_depth': [80, 90, 100, 110],\n",
    "    'max_features': [2, 3],\n",
    "    'min_samples_leaf': [3, 4, 5],\n",
    "    'min_samples_split': [8, 10, 12],\n",
    "    'n_estimators': [100, 200, 300, 1000]}]\n",
    "\n",
    "    kf = StratifiedKFold(10, random_state=1)\n",
    "    for train_index, test_index in kf.split(X, y):\n",
    "        X_train, X_test = X[train_index], X[test_index]\n",
    "        y_train, y_test = y[train_index], y[test_index]\n",
    "\n",
    "        lr = gsearch(pipe_lr, X_train, y_train, lr_grid)\n",
    "        svm = gsearch(pipe_svm, X_train, y_train, svm_grid)\n",
    "        rf_best = gsearch(rf, X_train, y_train, rf_grid)\n",
    "        if lr[0] > best_lr[0]:\n",
    "            best_lr[0] = lr[0]\n",
    "            best_lr[1] = lr\n",
    "        if svm[0] > best_svm[0]: \n",
    "            best_svm[0] = svm[0]\n",
    "            best_svm[1] = svm\n",
    "        if rf_best[0] > best_rf[0]: \n",
    "            best_rf[0] = rf_best[0]\n",
    "            best_rf[1] = rf_best\n",
    "            \n",
    "    return (best_lr[1][2], best_svm[1][2], best_rf[1][2], (best_lr[1][1], best_svm[1][1], best_rf[1][1]))"
   ]
  },
  {
   "cell_type": "code",
   "execution_count": 4,
   "metadata": {},
   "outputs": [],
   "source": [
    "def return_confusion(classifiers, X_train, X_test, y_train, y_test):\n",
    "    confmats = []\n",
    "    for classifier in classifiers:\n",
    "        classifier.fit(X_train, y_train)\n",
    "        y_pred = classifier.predict(X_test)\n",
    "        confmat = confusion_matrix(y_true=y_test, y_pred=y_pred)\n",
    "        confmats.append(confmat)\n",
    "    return confmats\n",
    "\n",
    "def plot_confusion(classifiers, X_train, X_test, y_train, y_test, title, save=False):\n",
    "    clf_names = [\"LR\", \"SVM\", \"RF\", \"BAGGING\"]\n",
    "    confmats = return_confusion(classifiers, X_train, X_test, y_train, y_test)\n",
    "    plt.figure(figsize=(6,6))\n",
    "    for ax_num, cnfm, clf_name in zip([221,222,223,224], confmats, clf_names):\n",
    "        ax = plt.subplot(ax_num)\n",
    "        ax.title.set_text(clf_name)\n",
    "\n",
    "        ax.matshow(cnfm, cmap=plt.cm.Blues, alpha=0.3)\n",
    "        for i in range(cnfm.shape[0]):\n",
    "            for j in range(cnfm.shape[1]):\n",
    "                ax.text(x=j, y=i, s=cnfm[i, j], va='center', ha='center')\n",
    "        \n",
    "        plt.xlabel('predicted label')\n",
    "        plt.ylabel('true label')\n",
    "\n",
    "    plt.suptitle(title, y=1.05, fontsize=16)\n",
    "    plt.tight_layout()\n",
    "    if save:\n",
    "        plt.savefig(save, dpi=300, bbox_inches='tight')\n",
    "    plt.show()"
   ]
  },
  {
   "cell_type": "markdown",
   "metadata": {},
   "source": [
    "# Importing Data"
   ]
  },
  {
   "cell_type": "code",
   "execution_count": 5,
   "metadata": {},
   "outputs": [],
   "source": [
    "data = pd.read_excel(\"NAFLD_en.xlsx\")\n",
    "features_df = data.iloc[:,1:-9]\n",
    "targets_df = data[['Significant Fibrosis (No=0, Yes=1) (If Fibrosis 2 and above, there is Significant Fibrosis)',\n",
    "                         'Advanced Fibrosis (No=0, Yes=1) (If Fibrosis is 3 and above, there is Advanced Fibrosis)']]"
   ]
  },
  {
   "cell_type": "code",
   "execution_count": 6,
   "metadata": {},
   "outputs": [],
   "source": [
    "missing_val_counts = {}\n",
    "for col in features_df.columns:\n",
    "    missing_val_counts[col] = features_df[col].isnull().sum()"
   ]
  },
  {
   "cell_type": "code",
   "execution_count": 7,
   "metadata": {},
   "outputs": [],
   "source": [
    "baseline_features = []\n",
    "for col, value in missing_val_counts.items():\n",
    "    if value == 0:\n",
    "        baseline_features.append(col)\n",
    "baseline_features = features_df[baseline_features]\n",
    "dropped_baseline = baseline_features.drop(['Steatosis', 'Activity'], 1)"
   ]
  },
  {
   "cell_type": "markdown",
   "metadata": {},
   "source": [
    "## Baseline (No missed values)"
   ]
  },
  {
   "cell_type": "code",
   "execution_count": 8,
   "metadata": {},
   "outputs": [],
   "source": [
    "# models_4_SF = best_estimator(dropped_baseline.values, targets_df.iloc[:,0].values)\n",
    "# models_4_AF = best_estimator(dropped_baseline.values, targets_df.iloc[:,1].values)"
   ]
  },
  {
   "cell_type": "code",
   "execution_count": 9,
   "metadata": {},
   "outputs": [],
   "source": [
    "with open('best_models.db', 'rb') as models:\n",
    "    keeping_models = pickle.load(models)\n",
    "    \n",
    "    models_4_SF = keeping_models['0']['SF']\n",
    "    models_4_AF = keeping_models['0']['AF']"
   ]
  },
  {
   "cell_type": "code",
   "execution_count": 10,
   "metadata": {},
   "outputs": [
    {
     "data": {
      "text/plain": [
       "({'clf__C': 0.001, 'clf__penalty': 'l2'},\n",
       " {'clf__C': 100.0, 'clf__kernel': 'rbf'},\n",
       " {'bootstrap': True,\n",
       "  'max_depth': 80,\n",
       "  'max_features': 3,\n",
       "  'min_samples_leaf': 4,\n",
       "  'min_samples_split': 8,\n",
       "  'n_estimators': 1000})"
      ]
     },
     "execution_count": 10,
     "metadata": {},
     "output_type": "execute_result"
    }
   ],
   "source": [
    "models_4_AF[3] # best parameters of the models"
   ]
  },
  {
   "cell_type": "code",
   "execution_count": 11,
   "metadata": {},
   "outputs": [],
   "source": [
    "lr_best_sf, svm_best_sf, rf_best_sf = models_4_SF[0], models_4_SF[1], models_4_SF[2]\n",
    "lr_best_af, svm_best_af, rf_best_af = models_4_AF[0], models_4_AF[1], models_4_AF[2]"
   ]
  },
  {
   "cell_type": "code",
   "execution_count": 12,
   "metadata": {},
   "outputs": [],
   "source": [
    "bagging = BaggingClassifier(DecisionTreeClassifier(), n_jobs=-1, random_state=1)\n",
    "\n",
    "sf_models = [lr_best_sf, svm_best_sf, rf_best_sf, bagging]\n",
    "af_models = [lr_best_af, svm_best_af, rf_best_af, bagging]"
   ]
  },
  {
   "cell_type": "code",
   "execution_count": 13,
   "metadata": {},
   "outputs": [],
   "source": [
    "comparison_table = {}\n",
    "kf = StratifiedKFold(10, random_state=1)\n",
    "X = dropped_baseline.values\n",
    "\n",
    "for idx, models in enumerate([sf_models, af_models]):\n",
    "    if idx == 0: target = \"SF\"\n",
    "    else: target = \"AF\"\n",
    "    comparison_table.setdefault(target, [])\n",
    "    for mdl in models:\n",
    "        avrg = []\n",
    "        y = targets_df.iloc[:,idx].values\n",
    "        for train_index, test_index in kf.split(X, y):\n",
    "            X_train, X_test = X[train_index], X[test_index]\n",
    "            y_train, y_test = y[train_index], y[test_index]\n",
    "            avrg.append(collect_scores(mdl, X_train, X_test, y_train, y_test))\n",
    "        avrg = pd.DataFrame(np.array(avrg)).replace({np.inf:np.nan}).values\n",
    "        avrg_list = np.round(np.nanmean(avrg, axis=0, dtype=np.float64),3).tolist()\n",
    "        avrg_list[0], avrg_list[1] = round(avrg_list[0]*100), round(avrg_list[1]*100)\n",
    "        avrg_list[2], avrg_list[3] = avrg_list[2], avrg_list[3]\n",
    "        comparison_table[target].append(avrg_list)"
   ]
  },
  {
   "cell_type": "code",
   "execution_count": 14,
   "metadata": {},
   "outputs": [
    {
     "data": {
      "text/html": [
       "<div>\n",
       "<style scoped>\n",
       "    .dataframe tbody tr th:only-of-type {\n",
       "        vertical-align: middle;\n",
       "    }\n",
       "\n",
       "    .dataframe tbody tr th {\n",
       "        vertical-align: top;\n",
       "    }\n",
       "\n",
       "    .dataframe thead th {\n",
       "        text-align: right;\n",
       "    }\n",
       "</style>\n",
       "<table border=\"1\" class=\"dataframe\">\n",
       "  <thead>\n",
       "    <tr style=\"text-align: right;\">\n",
       "      <th></th>\n",
       "      <th></th>\n",
       "      <th>Sensitivity (%)</th>\n",
       "      <th>Specificity (%)</th>\n",
       "      <th>FN</th>\n",
       "      <th>FP</th>\n",
       "      <th>PPV</th>\n",
       "      <th>NPV</th>\n",
       "      <th>PLR</th>\n",
       "      <th>NLR</th>\n",
       "      <th>AUC</th>\n",
       "    </tr>\n",
       "  </thead>\n",
       "  <tbody>\n",
       "    <tr>\n",
       "      <th>SIGNIFICANT</th>\n",
       "      <th>LR</th>\n",
       "      <td>48.0</td>\n",
       "      <td>82.0</td>\n",
       "      <td>0.188</td>\n",
       "      <td>0.117</td>\n",
       "      <td>0.592</td>\n",
       "      <td>0.736</td>\n",
       "      <td>3.139</td>\n",
       "      <td>0.648</td>\n",
       "      <td>0.705</td>\n",
       "    </tr>\n",
       "    <tr>\n",
       "      <th>FIBROSIS</th>\n",
       "      <th>SVM</th>\n",
       "      <td>44.0</td>\n",
       "      <td>84.0</td>\n",
       "      <td>0.203</td>\n",
       "      <td>0.101</td>\n",
       "      <td>0.614</td>\n",
       "      <td>0.726</td>\n",
       "      <td>3.186</td>\n",
       "      <td>0.670</td>\n",
       "      <td>0.711</td>\n",
       "    </tr>\n",
       "    <tr>\n",
       "      <th rowspan=\"2\" valign=\"top\"></th>\n",
       "      <th>RandomForest</th>\n",
       "      <td>38.0</td>\n",
       "      <td>88.0</td>\n",
       "      <td>0.223</td>\n",
       "      <td>0.079</td>\n",
       "      <td>0.648</td>\n",
       "      <td>0.715</td>\n",
       "      <td>4.886</td>\n",
       "      <td>0.710</td>\n",
       "      <td>0.700</td>\n",
       "    </tr>\n",
       "    <tr>\n",
       "      <th>Bagging</th>\n",
       "      <td>42.0</td>\n",
       "      <td>78.0</td>\n",
       "      <td>0.208</td>\n",
       "      <td>0.140</td>\n",
       "      <td>0.532</td>\n",
       "      <td>0.704</td>\n",
       "      <td>2.528</td>\n",
       "      <td>0.760</td>\n",
       "      <td>0.644</td>\n",
       "    </tr>\n",
       "  </tbody>\n",
       "</table>\n",
       "</div>"
      ],
      "text/plain": [
       "                          Sensitivity (%)  Specificity (%)     FN     FP  \\\n",
       "SIGNIFICANT LR                       48.0             82.0  0.188  0.117   \n",
       "FIBROSIS    SVM                      44.0             84.0  0.203  0.101   \n",
       "            RandomForest             38.0             88.0  0.223  0.079   \n",
       "            Bagging                  42.0             78.0  0.208  0.140   \n",
       "\n",
       "                            PPV    NPV    PLR    NLR    AUC  \n",
       "SIGNIFICANT LR            0.592  0.736  3.139  0.648  0.705  \n",
       "FIBROSIS    SVM           0.614  0.726  3.186  0.670  0.711  \n",
       "            RandomForest  0.648  0.715  4.886  0.710  0.700  \n",
       "            Bagging       0.532  0.704  2.528  0.760  0.644  "
      ]
     },
     "execution_count": 14,
     "metadata": {},
     "output_type": "execute_result"
    }
   ],
   "source": [
    "columns = ['Sensitivity (%)', 'Specificity (%)', 'FN', 'FP', 'PPV', 'NPV', 'PLR', 'NLR', 'AUC']\n",
    "index = ['LR', 'SVM', 'RandomForest', 'Bagging']\n",
    "index1 = pd.MultiIndex.from_tuples([('SIGNIFICANT', 'LR'), ('FIBROSIS', 'SVM'), ('','RandomForest'), ('', 'Bagging')])\n",
    "sf_table_df = pd.DataFrame(np.array(comparison_table['SF']), index=index1, columns=columns)\n",
    "sf_table_df"
   ]
  },
  {
   "cell_type": "code",
   "execution_count": 15,
   "metadata": {
    "scrolled": false
   },
   "outputs": [
    {
     "data": {
      "text/html": [
       "<div>\n",
       "<style scoped>\n",
       "    .dataframe tbody tr th:only-of-type {\n",
       "        vertical-align: middle;\n",
       "    }\n",
       "\n",
       "    .dataframe tbody tr th {\n",
       "        vertical-align: top;\n",
       "    }\n",
       "\n",
       "    .dataframe thead th {\n",
       "        text-align: right;\n",
       "    }\n",
       "</style>\n",
       "<table border=\"1\" class=\"dataframe\">\n",
       "  <thead>\n",
       "    <tr style=\"text-align: right;\">\n",
       "      <th></th>\n",
       "      <th></th>\n",
       "      <th>Sensitivity (%)</th>\n",
       "      <th>Specificity (%)</th>\n",
       "      <th>FN</th>\n",
       "      <th>FP</th>\n",
       "      <th>PPV</th>\n",
       "      <th>NPV</th>\n",
       "      <th>PLR</th>\n",
       "      <th>NLR</th>\n",
       "      <th>AUC</th>\n",
       "    </tr>\n",
       "  </thead>\n",
       "  <tbody>\n",
       "    <tr>\n",
       "      <th>ADVANCED</th>\n",
       "      <th>LR</th>\n",
       "      <td>32.0</td>\n",
       "      <td>90.0</td>\n",
       "      <td>0.121</td>\n",
       "      <td>0.081</td>\n",
       "      <td>0.467</td>\n",
       "      <td>0.861</td>\n",
       "      <td>3.437</td>\n",
       "      <td>0.750</td>\n",
       "      <td>0.754</td>\n",
       "    </tr>\n",
       "    <tr>\n",
       "      <th>FIBROSIS</th>\n",
       "      <th>SVM</th>\n",
       "      <td>32.0</td>\n",
       "      <td>88.0</td>\n",
       "      <td>0.121</td>\n",
       "      <td>0.101</td>\n",
       "      <td>0.386</td>\n",
       "      <td>0.857</td>\n",
       "      <td>3.366</td>\n",
       "      <td>0.769</td>\n",
       "      <td>0.703</td>\n",
       "    </tr>\n",
       "    <tr>\n",
       "      <th rowspan=\"2\" valign=\"top\"></th>\n",
       "      <th>RandomForest</th>\n",
       "      <td>6.0</td>\n",
       "      <td>100.0</td>\n",
       "      <td>0.169</td>\n",
       "      <td>0.002</td>\n",
       "      <td>0.833</td>\n",
       "      <td>0.830</td>\n",
       "      <td>0.000</td>\n",
       "      <td>0.947</td>\n",
       "      <td>0.765</td>\n",
       "    </tr>\n",
       "    <tr>\n",
       "      <th>Bagging</th>\n",
       "      <td>19.0</td>\n",
       "      <td>95.0</td>\n",
       "      <td>0.144</td>\n",
       "      <td>0.038</td>\n",
       "      <td>0.543</td>\n",
       "      <td>0.845</td>\n",
       "      <td>5.499</td>\n",
       "      <td>0.846</td>\n",
       "      <td>0.712</td>\n",
       "    </tr>\n",
       "  </tbody>\n",
       "</table>\n",
       "</div>"
      ],
      "text/plain": [
       "                       Sensitivity (%)  Specificity (%)     FN     FP    PPV  \\\n",
       "ADVANCED LR                       32.0             90.0  0.121  0.081  0.467   \n",
       "FIBROSIS SVM                      32.0             88.0  0.121  0.101  0.386   \n",
       "         RandomForest              6.0            100.0  0.169  0.002  0.833   \n",
       "         Bagging                  19.0             95.0  0.144  0.038  0.543   \n",
       "\n",
       "                         NPV    PLR    NLR    AUC  \n",
       "ADVANCED LR            0.861  3.437  0.750  0.754  \n",
       "FIBROSIS SVM           0.857  3.366  0.769  0.703  \n",
       "         RandomForest  0.830  0.000  0.947  0.765  \n",
       "         Bagging       0.845  5.499  0.846  0.712  "
      ]
     },
     "execution_count": 15,
     "metadata": {},
     "output_type": "execute_result"
    }
   ],
   "source": [
    "index2 = pd.MultiIndex.from_tuples([('ADVANCED', 'LR'), ('FIBROSIS', 'SVM'), ('', 'RandomForest'), ('', 'Bagging')])\n",
    "af_table_df = pd.DataFrame(np.array(comparison_table['AF']), index=index2, columns=columns)\n",
    "af_table_df"
   ]
  },
  {
   "cell_type": "markdown",
   "metadata": {},
   "source": [
    "### Confusion Matrices"
   ]
  },
  {
   "cell_type": "code",
   "execution_count": 16,
   "metadata": {},
   "outputs": [],
   "source": [
    "X_train_sf_0, X_test_sf_0, y_train_sf_0, y_test_sf_0 = train_test_split(\n",
    "    dropped_baseline.values, targets_df.iloc[:,0].values, test_size=0.2, random_state=1, stratify= y)\n",
    "\n",
    "X_train_af_0, X_test_af_0, y_train_af_0, y_test_af_0 = train_test_split(\n",
    "    dropped_baseline.values, targets_df.iloc[:,1].values, test_size=0.2, random_state=1, stratify= y)"
   ]
  },
  {
   "cell_type": "code",
   "execution_count": 17,
   "metadata": {},
   "outputs": [
    {
     "data": {
      "image/png": "[encoded data removed]",
      "text/plain": [
       "<Figure size 432x432 with 4 Axes>"
      ]
     },
     "metadata": {
      "needs_background": "light"
     },
     "output_type": "display_data"
    }
   ],
   "source": [
    "sf_title_0 = \"Significant Fibrosis Without Missed Data\"\n",
    "plot_confusion(sf_models, X_train_sf_0, X_test_sf_0, y_train_sf_0, y_test_sf_0, sf_title_0, save=False)"
   ]
  },
  {
   "cell_type": "code",
   "execution_count": 18,
   "metadata": {},
   "outputs": [
    {
     "data": {
      "image/png": "[encoded data removed]",
      "text/plain": [
       "<Figure size 432x432 with 4 Axes>"
      ]
     },
     "metadata": {
      "needs_background": "light"
     },
     "output_type": "display_data"
    }
   ],
   "source": [
    "af_title_0 = \"Advanced Fibrosis Without Missed Data\"\n",
    "plot_confusion(af_models, X_train_af_0, X_test_af_0, y_train_af_0, y_test_af_0, af_title_0, save=False)"
   ]
  },
  {
   "cell_type": "markdown",
   "metadata": {},
   "source": [
    "## 25% Threshold"
   ]
  },
  {
   "cell_type": "code",
   "execution_count": 19,
   "metadata": {},
   "outputs": [],
   "source": [
    "features_df = features_df.drop(['Steatosis', 'Activity'], 1)\n",
    "missing_data_percentages = features_df.isnull().mean()\n",
    "threshold_25 = [col for col, persantage in missing_data_percentages.items() if persantage < 0.25]\n",
    "threshold_25_df = features_df[threshold_25]\n",
    "\n",
    "knn_25 = fast_knn(threshold_25_df.values, k=30)"
   ]
  },
  {
   "cell_type": "code",
   "execution_count": 20,
   "metadata": {},
   "outputs": [],
   "source": [
    "# models_25_SF = best_estimator(knn_25, targets_df.iloc[:,0].values)\n",
    "# models_25_AF = best_estimator(knn_25, targets_df.iloc[:,1].values)"
   ]
  },
  {
   "cell_type": "code",
   "execution_count": 21,
   "metadata": {},
   "outputs": [],
   "source": [
    "with open('best_models.db', 'rb') as models:\n",
    "    keeping_models = pickle.load(models)\n",
    "    \n",
    "    models_25_SF = keeping_models['25']['SF']\n",
    "    models_25_AF = keeping_models['25']['AF']"
   ]
  },
  {
   "cell_type": "code",
   "execution_count": 22,
   "metadata": {},
   "outputs": [
    {
     "data": {
      "text/plain": [
       "({'clf__C': 0.001, 'clf__penalty': 'l2'},\n",
       " {'clf__C': 100.0, 'clf__kernel': 'sigmoid'},\n",
       " {'bootstrap': True,\n",
       "  'max_depth': 80,\n",
       "  'max_features': 3,\n",
       "  'min_samples_leaf': 3,\n",
       "  'min_samples_split': 8,\n",
       "  'n_estimators': 200})"
      ]
     },
     "execution_count": 22,
     "metadata": {},
     "output_type": "execute_result"
    }
   ],
   "source": [
    "models_25_AF[3] # best parameters of the models"
   ]
  },
  {
   "cell_type": "code",
   "execution_count": 23,
   "metadata": {},
   "outputs": [],
   "source": [
    "lr_best_sf_25, svm_best_sf_25, rf_best_sf_25 = models_25_SF[0], models_25_SF[1], models_25_SF[2]\n",
    "lr_best_af_25, svm_best_af_25, rf_best_af_25 = models_25_AF[0], models_25_AF[1], models_25_AF[2]"
   ]
  },
  {
   "cell_type": "code",
   "execution_count": 24,
   "metadata": {},
   "outputs": [],
   "source": [
    "bagging = BaggingClassifier(DecisionTreeClassifier(), n_jobs=-1, random_state=1)\n",
    "\n",
    "sf_25_models = [lr_best_sf_25, svm_best_sf_25, rf_best_sf_25, bagging]\n",
    "af_25_models = [lr_best_af_25, svm_best_af_25, rf_best_af_25, bagging]"
   ]
  },
  {
   "cell_type": "code",
   "execution_count": 25,
   "metadata": {
    "scrolled": true
   },
   "outputs": [],
   "source": [
    "comparison_table_25 = {}\n",
    "kf = StratifiedKFold(10, random_state=1)\n",
    "X = knn_25\n",
    "\n",
    "for idx, models in enumerate([sf_25_models, af_25_models]):\n",
    "    if idx == 0: target = \"SF\"\n",
    "    else: target = \"AF\"\n",
    "    comparison_table_25.setdefault(target, [])\n",
    "    for mdl in models:\n",
    "        avrg = []\n",
    "        y = targets_df.iloc[:,idx].values\n",
    "        for train_index, test_index in kf.split(X, y):\n",
    "            X_train, X_test = X[train_index], X[test_index]\n",
    "            y_train, y_test = y[train_index], y[test_index]\n",
    "            avrg.append(collect_scores(mdl, X_train, X_test, y_train, y_test))\n",
    "        avrg = pd.DataFrame(np.array(avrg)).replace({np.inf:np.nan}).values\n",
    "        avrg_list = np.round(np.nanmean(avrg, axis=0, dtype=np.float64),3).tolist()\n",
    "        avrg_list[0], avrg_list[1] = round(avrg_list[0]*100), round(avrg_list[1]*100)\n",
    "        avrg_list[2], avrg_list[3] = avrg_list[2], avrg_list[3]\n",
    "        comparison_table_25[target].append(avrg_list)"
   ]
  },
  {
   "cell_type": "code",
   "execution_count": 26,
   "metadata": {},
   "outputs": [
    {
     "data": {
      "text/html": [
       "<div>\n",
       "<style scoped>\n",
       "    .dataframe tbody tr th:only-of-type {\n",
       "        vertical-align: middle;\n",
       "    }\n",
       "\n",
       "    .dataframe tbody tr th {\n",
       "        vertical-align: top;\n",
       "    }\n",
       "\n",
       "    .dataframe thead th {\n",
       "        text-align: right;\n",
       "    }\n",
       "</style>\n",
       "<table border=\"1\" class=\"dataframe\">\n",
       "  <thead>\n",
       "    <tr style=\"text-align: right;\">\n",
       "      <th></th>\n",
       "      <th></th>\n",
       "      <th>Sensitivity (%)</th>\n",
       "      <th>Specificity (%)</th>\n",
       "      <th>FN</th>\n",
       "      <th>FP</th>\n",
       "      <th>PPV</th>\n",
       "      <th>NPV</th>\n",
       "      <th>PLR</th>\n",
       "      <th>NLR</th>\n",
       "      <th>AUC</th>\n",
       "    </tr>\n",
       "  </thead>\n",
       "  <tbody>\n",
       "    <tr>\n",
       "      <th>SIGNIFICANT</th>\n",
       "      <th>LR</th>\n",
       "      <td>49.0</td>\n",
       "      <td>80.0</td>\n",
       "      <td>0.183</td>\n",
       "      <td>0.127</td>\n",
       "      <td>0.574</td>\n",
       "      <td>0.738</td>\n",
       "      <td>3.569</td>\n",
       "      <td>0.648</td>\n",
       "      <td>0.716</td>\n",
       "    </tr>\n",
       "    <tr>\n",
       "      <th>FIBROSIS</th>\n",
       "      <th>SVM</th>\n",
       "      <td>46.0</td>\n",
       "      <td>80.0</td>\n",
       "      <td>0.195</td>\n",
       "      <td>0.129</td>\n",
       "      <td>0.567</td>\n",
       "      <td>0.724</td>\n",
       "      <td>3.446</td>\n",
       "      <td>0.691</td>\n",
       "      <td>0.693</td>\n",
       "    </tr>\n",
       "    <tr>\n",
       "      <th rowspan=\"2\" valign=\"top\"></th>\n",
       "      <th>RandomForest</th>\n",
       "      <td>29.0</td>\n",
       "      <td>91.0</td>\n",
       "      <td>0.256</td>\n",
       "      <td>0.060</td>\n",
       "      <td>0.650</td>\n",
       "      <td>0.694</td>\n",
       "      <td>4.789</td>\n",
       "      <td>0.788</td>\n",
       "      <td>0.707</td>\n",
       "    </tr>\n",
       "    <tr>\n",
       "      <th>Bagging</th>\n",
       "      <td>42.0</td>\n",
       "      <td>85.0</td>\n",
       "      <td>0.208</td>\n",
       "      <td>0.094</td>\n",
       "      <td>0.640</td>\n",
       "      <td>0.723</td>\n",
       "      <td>5.483</td>\n",
       "      <td>0.684</td>\n",
       "      <td>0.706</td>\n",
       "    </tr>\n",
       "  </tbody>\n",
       "</table>\n",
       "</div>"
      ],
      "text/plain": [
       "                          Sensitivity (%)  Specificity (%)     FN     FP  \\\n",
       "SIGNIFICANT LR                       49.0             80.0  0.183  0.127   \n",
       "FIBROSIS    SVM                      46.0             80.0  0.195  0.129   \n",
       "            RandomForest             29.0             91.0  0.256  0.060   \n",
       "            Bagging                  42.0             85.0  0.208  0.094   \n",
       "\n",
       "                            PPV    NPV    PLR    NLR    AUC  \n",
       "SIGNIFICANT LR            0.574  0.738  3.569  0.648  0.716  \n",
       "FIBROSIS    SVM           0.567  0.724  3.446  0.691  0.693  \n",
       "            RandomForest  0.650  0.694  4.789  0.788  0.707  \n",
       "            Bagging       0.640  0.723  5.483  0.684  0.706  "
      ]
     },
     "execution_count": 26,
     "metadata": {},
     "output_type": "execute_result"
    }
   ],
   "source": [
    "index3 = pd.MultiIndex.from_tuples([('SIGNIFICANT', 'LR'), ('FIBROSIS', 'SVM'), ('', 'RandomForest'), ('', 'Bagging')])\n",
    "sf_table_25_df = pd.DataFrame(np.array(comparison_table_25['SF']), index=index3, columns=columns)\n",
    "sf_table_25_df"
   ]
  },
  {
   "cell_type": "code",
   "execution_count": 27,
   "metadata": {
    "scrolled": true
   },
   "outputs": [
    {
     "data": {
      "text/html": [
       "<div>\n",
       "<style scoped>\n",
       "    .dataframe tbody tr th:only-of-type {\n",
       "        vertical-align: middle;\n",
       "    }\n",
       "\n",
       "    .dataframe tbody tr th {\n",
       "        vertical-align: top;\n",
       "    }\n",
       "\n",
       "    .dataframe thead th {\n",
       "        text-align: right;\n",
       "    }\n",
       "</style>\n",
       "<table border=\"1\" class=\"dataframe\">\n",
       "  <thead>\n",
       "    <tr style=\"text-align: right;\">\n",
       "      <th></th>\n",
       "      <th></th>\n",
       "      <th>Sensitivity (%)</th>\n",
       "      <th>Specificity (%)</th>\n",
       "      <th>FN</th>\n",
       "      <th>FP</th>\n",
       "      <th>PPV</th>\n",
       "      <th>NPV</th>\n",
       "      <th>PLR</th>\n",
       "      <th>NLR</th>\n",
       "      <th>AUC</th>\n",
       "    </tr>\n",
       "  </thead>\n",
       "  <tbody>\n",
       "    <tr>\n",
       "      <th>ADVANCED</th>\n",
       "      <th>LR</th>\n",
       "      <td>54.0</td>\n",
       "      <td>83.0</td>\n",
       "      <td>0.082</td>\n",
       "      <td>0.137</td>\n",
       "      <td>0.427</td>\n",
       "      <td>0.894</td>\n",
       "      <td>3.920</td>\n",
       "      <td>0.552</td>\n",
       "      <td>0.783</td>\n",
       "    </tr>\n",
       "    <tr>\n",
       "      <th>FIBROSIS</th>\n",
       "      <th>SVM</th>\n",
       "      <td>29.0</td>\n",
       "      <td>85.0</td>\n",
       "      <td>0.127</td>\n",
       "      <td>0.126</td>\n",
       "      <td>0.296</td>\n",
       "      <td>0.846</td>\n",
       "      <td>2.089</td>\n",
       "      <td>0.840</td>\n",
       "      <td>0.663</td>\n",
       "    </tr>\n",
       "    <tr>\n",
       "      <th rowspan=\"2\" valign=\"top\"></th>\n",
       "      <th>RandomForest</th>\n",
       "      <td>7.0</td>\n",
       "      <td>100.0</td>\n",
       "      <td>0.167</td>\n",
       "      <td>0.002</td>\n",
       "      <td>0.667</td>\n",
       "      <td>0.831</td>\n",
       "      <td>0.000</td>\n",
       "      <td>0.936</td>\n",
       "      <td>0.786</td>\n",
       "    </tr>\n",
       "    <tr>\n",
       "      <th>Bagging</th>\n",
       "      <td>16.0</td>\n",
       "      <td>95.0</td>\n",
       "      <td>0.150</td>\n",
       "      <td>0.038</td>\n",
       "      <td>0.374</td>\n",
       "      <td>0.840</td>\n",
       "      <td>4.239</td>\n",
       "      <td>0.879</td>\n",
       "      <td>0.672</td>\n",
       "    </tr>\n",
       "  </tbody>\n",
       "</table>\n",
       "</div>"
      ],
      "text/plain": [
       "                       Sensitivity (%)  Specificity (%)     FN     FP    PPV  \\\n",
       "ADVANCED LR                       54.0             83.0  0.082  0.137  0.427   \n",
       "FIBROSIS SVM                      29.0             85.0  0.127  0.126  0.296   \n",
       "         RandomForest              7.0            100.0  0.167  0.002  0.667   \n",
       "         Bagging                  16.0             95.0  0.150  0.038  0.374   \n",
       "\n",
       "                         NPV    PLR    NLR    AUC  \n",
       "ADVANCED LR            0.894  3.920  0.552  0.783  \n",
       "FIBROSIS SVM           0.846  2.089  0.840  0.663  \n",
       "         RandomForest  0.831  0.000  0.936  0.786  \n",
       "         Bagging       0.840  4.239  0.879  0.672  "
      ]
     },
     "execution_count": 27,
     "metadata": {},
     "output_type": "execute_result"
    }
   ],
   "source": [
    "index4 = pd.MultiIndex.from_tuples([('ADVANCED', 'LR'), ('FIBROSIS', 'SVM'), ('', 'RandomForest'), ('', 'Bagging')])\n",
    "af_table_25_df = pd.DataFrame(np.array(comparison_table_25['AF']), index=index4, columns=columns)\n",
    "af_table_25_df"
   ]
  },
  {
   "cell_type": "markdown",
   "metadata": {},
   "source": [
    "### Confusion Matrices"
   ]
  },
  {
   "cell_type": "code",
   "execution_count": 28,
   "metadata": {},
   "outputs": [],
   "source": [
    "X_train_sf_25, X_test_sf_25, y_train_sf_25, y_test_sf_25 = train_test_split(\n",
    "    knn_25, targets_df.iloc[:,0].values, test_size=0.2, random_state=1, stratify=y)\n",
    "\n",
    "X_train_af_25, X_test_af_25, y_train_af_25, y_test_af_25 = train_test_split(\n",
    "    knn_25, targets_df.iloc[:,1].values, test_size=0.2, random_state=1, stratify=y)"
   ]
  },
  {
   "cell_type": "code",
   "execution_count": 29,
   "metadata": {},
   "outputs": [
    {
     "data": {
      "image/png": "[encoded data removed]",
      "text/plain": [
       "<Figure size 432x432 with 4 Axes>"
      ]
     },
     "metadata": {
      "needs_background": "light"
     },
     "output_type": "display_data"
    }
   ],
   "source": [
    "sf_title_25 = \"Significant Fibrosis With 25% Threshold\"\n",
    "plot_confusion(sf_25_models, X_train_sf_25, X_test_sf_25, y_train_sf_25, y_test_sf_25, sf_title_25, save=False)"
   ]
  },
  {
   "cell_type": "code",
   "execution_count": 30,
   "metadata": {},
   "outputs": [
    {
     "data": {
      "image/png": "[encoded data removed]",
      "text/plain": [
       "<Figure size 432x432 with 4 Axes>"
      ]
     },
     "metadata": {
      "needs_background": "light"
     },
     "output_type": "display_data"
    }
   ],
   "source": [
    "af_title_25 = \"Advanced Fibrosis With 25% Threshold\"\n",
    "plot_confusion(af_25_models, X_train_af_25, X_test_af_25, y_train_af_25, y_test_af_25, af_title_25, save=False)"
   ]
  },
  {
   "cell_type": "markdown",
   "metadata": {},
   "source": [
    "## Keeping Models In The Memory"
   ]
  },
  {
   "cell_type": "code",
   "execution_count": 31,
   "metadata": {},
   "outputs": [],
   "source": [
    "# keep_models = {'0':{'SF':models_4_SF, 'AF':models_4_AF},\n",
    "#                '25':{'SF':models_25_SF, 'AF':models_25_AF}}\n",
    "# with open('best_models.db','wb') as models:\n",
    "#     pickle.dump(keep_models, models)"
   ]
  },
  {
   "cell_type": "code",
   "execution_count": 32,
   "metadata": {},
   "outputs": [],
   "source": [
    "# with open('models.db', 'rb') as models:\n",
    "#     keeping_models = pickle.load(models)"
   ]
  },
  {
   "cell_type": "code",
   "execution_count": 33,
   "metadata": {},
   "outputs": [],
   "source": [
    "# from pandas.plotting import table\n",
    "\n",
    "# tables = [sf_table_df, af_table_df, sf_table_25_df, af_table_25_df]\n",
    "# table_names = ['sf_table.png', 'af_table.png', 'sf_25_table.png', 'af_25_table.png']\n",
    "# for tbl, name in zip(tables, table_names):\n",
    "#     ax = plt.subplot(111, frame_on=False) # no visible frame\n",
    "#     ax.xaxis.set_visible(False)  # hide the x axis\n",
    "#     ax.yaxis.set_visible(False)  # hide the y axis\n",
    "\n",
    "#     table(ax, tbl)\n",
    "#     plt.savefig(name, dpi=600, bbox_inches='tight')"
   ]
  }
 ],
 "metadata": {
  "kernelspec": {
   "display_name": "Python 3",
   "language": "python",
   "name": "python3"
  },
  "language_info": {
   "codemirror_mode": {
    "name": "ipython",
    "version": 3
   },
   "file_extension": ".py",
   "mimetype": "text/x-python",
   "name": "python",
   "nbconvert_exporter": "python",
   "pygments_lexer": "ipython3",
   "version": "3.7.3"
  }
 },
 "nbformat": 4,
 "nbformat_minor": 2
}
